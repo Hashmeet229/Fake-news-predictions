{
  "nbformat": 4,
  "nbformat_minor": 0,
  "metadata": {
    "colab": {
      "name": "Fake News Prediction.ipynb",
      "version": "0.3.2",
      "provenance": [],
      "collapsed_sections": []
    },
    "kernelspec": {
      "display_name": "Python 3",
      "language": "python",
      "name": "python3"
    }
  },
  "cells": [
    {
      "metadata": {
        "id": "3A6_LOEH_nZk",
        "colab_type": "code",
        "colab": {}
      },
      "cell_type": "code",
      "source": [
        "# import libraries \n",
        "import pandas as pd\n",
        "import numpy as np\n",
        "import matplotlib.pyplot as plt\n",
        "import itertools\n",
        "from sklearn.feature_extraction.text import CountVectorizer, TfidfVectorizer, HashingVectorizer\n",
        "from sklearn.model_selection import train_test_split\n",
        "from sklearn.linear_model import PassiveAggressiveClassifier\n",
        "from sklearn.naive_bayes import MultinomialNB\n",
        "from sklearn import metrics\n",
        "import seaborn as sns\n",
        "%matplotlib inline\n",
        "import nltk\n",
        "from collections import Counter"
      ],
      "execution_count": 0,
      "outputs": []
    },
    {
      "metadata": {
        "id": "tlr4ZECzu38t",
        "colab_type": "text"
      },
      "cell_type": "markdown",
      "source": [
        "**Data Exploration**\n",
        "\n",
        "To begin, you should always take a quick look at the data and get a feel for its contents. To do so, use a Pandas DataFrame and check the shape, head and apply any necessary transformations."
      ]
    },
    {
      "metadata": {
        "id": "610GasFi_nZv",
        "colab_type": "code",
        "outputId": "8c79473d-55f7-41cc-af0a-bf4a95060a57",
        "colab": {
          "base_uri": "https://localhost:8080/",
          "height": 359
        }
      },
      "cell_type": "code",
      "source": [
        "# load data\n",
        "df=pd.read_csv('fake_or_real_news.csv')\n",
        "df.head(10)         "
      ],
      "execution_count": 2,
      "outputs": [
        {
          "output_type": "execute_result",
          "data": {
            "text/html": [
              "<div>\n",
              "<style scoped>\n",
              "    .dataframe tbody tr th:only-of-type {\n",
              "        vertical-align: middle;\n",
              "    }\n",
              "\n",
              "    .dataframe tbody tr th {\n",
              "        vertical-align: top;\n",
              "    }\n",
              "\n",
              "    .dataframe thead th {\n",
              "        text-align: right;\n",
              "    }\n",
              "</style>\n",
              "<table border=\"1\" class=\"dataframe\">\n",
              "  <thead>\n",
              "    <tr style=\"text-align: right;\">\n",
              "      <th></th>\n",
              "      <th>Unnamed: 0</th>\n",
              "      <th>title</th>\n",
              "      <th>text</th>\n",
              "      <th>label</th>\n",
              "    </tr>\n",
              "  </thead>\n",
              "  <tbody>\n",
              "    <tr>\n",
              "      <th>0</th>\n",
              "      <td>8476</td>\n",
              "      <td>You Can Smell Hillary’s Fear</td>\n",
              "      <td>Daniel Greenfield, a Shillman Journalism Fello...</td>\n",
              "      <td>FAKE</td>\n",
              "    </tr>\n",
              "    <tr>\n",
              "      <th>1</th>\n",
              "      <td>10294</td>\n",
              "      <td>Watch The Exact Moment Paul Ryan Committed Pol...</td>\n",
              "      <td>Google Pinterest Digg Linkedin Reddit Stumbleu...</td>\n",
              "      <td>FAKE</td>\n",
              "    </tr>\n",
              "    <tr>\n",
              "      <th>2</th>\n",
              "      <td>3608</td>\n",
              "      <td>Kerry to go to Paris in gesture of sympathy</td>\n",
              "      <td>U.S. Secretary of State John F. Kerry said Mon...</td>\n",
              "      <td>REAL</td>\n",
              "    </tr>\n",
              "    <tr>\n",
              "      <th>3</th>\n",
              "      <td>10142</td>\n",
              "      <td>Bernie supporters on Twitter erupt in anger ag...</td>\n",
              "      <td>— Kaydee King (@KaydeeKing) November 9, 2016 T...</td>\n",
              "      <td>FAKE</td>\n",
              "    </tr>\n",
              "    <tr>\n",
              "      <th>4</th>\n",
              "      <td>875</td>\n",
              "      <td>The Battle of New York: Why This Primary Matters</td>\n",
              "      <td>It's primary day in New York and front-runners...</td>\n",
              "      <td>REAL</td>\n",
              "    </tr>\n",
              "    <tr>\n",
              "      <th>5</th>\n",
              "      <td>6903</td>\n",
              "      <td>Tehran, USA</td>\n",
              "      <td>\\nI’m not an immigrant, but my grandparents ...</td>\n",
              "      <td>FAKE</td>\n",
              "    </tr>\n",
              "    <tr>\n",
              "      <th>6</th>\n",
              "      <td>7341</td>\n",
              "      <td>Girl Horrified At What She Watches Boyfriend D...</td>\n",
              "      <td>Share This Baylee Luciani (left), Screenshot o...</td>\n",
              "      <td>FAKE</td>\n",
              "    </tr>\n",
              "    <tr>\n",
              "      <th>7</th>\n",
              "      <td>95</td>\n",
              "      <td>‘Britain’s Schindler’ Dies at 106</td>\n",
              "      <td>A Czech stockbroker who saved more than 650 Je...</td>\n",
              "      <td>REAL</td>\n",
              "    </tr>\n",
              "    <tr>\n",
              "      <th>8</th>\n",
              "      <td>4869</td>\n",
              "      <td>Fact check: Trump and Clinton at the 'commande...</td>\n",
              "      <td>Hillary Clinton and Donald Trump made some ina...</td>\n",
              "      <td>REAL</td>\n",
              "    </tr>\n",
              "    <tr>\n",
              "      <th>9</th>\n",
              "      <td>2909</td>\n",
              "      <td>Iran reportedly makes new push for uranium con...</td>\n",
              "      <td>Iranian negotiators reportedly have made a las...</td>\n",
              "      <td>REAL</td>\n",
              "    </tr>\n",
              "  </tbody>\n",
              "</table>\n",
              "</div>"
            ],
            "text/plain": [
              "   Unnamed: 0                                              title  \\\n",
              "0        8476                       You Can Smell Hillary’s Fear   \n",
              "1       10294  Watch The Exact Moment Paul Ryan Committed Pol...   \n",
              "2        3608        Kerry to go to Paris in gesture of sympathy   \n",
              "3       10142  Bernie supporters on Twitter erupt in anger ag...   \n",
              "4         875   The Battle of New York: Why This Primary Matters   \n",
              "5        6903                                        Tehran, USA   \n",
              "6        7341  Girl Horrified At What She Watches Boyfriend D...   \n",
              "7          95                  ‘Britain’s Schindler’ Dies at 106   \n",
              "8        4869  Fact check: Trump and Clinton at the 'commande...   \n",
              "9        2909  Iran reportedly makes new push for uranium con...   \n",
              "\n",
              "                                                text label  \n",
              "0  Daniel Greenfield, a Shillman Journalism Fello...  FAKE  \n",
              "1  Google Pinterest Digg Linkedin Reddit Stumbleu...  FAKE  \n",
              "2  U.S. Secretary of State John F. Kerry said Mon...  REAL  \n",
              "3  — Kaydee King (@KaydeeKing) November 9, 2016 T...  FAKE  \n",
              "4  It's primary day in New York and front-runners...  REAL  \n",
              "5    \\nI’m not an immigrant, but my grandparents ...  FAKE  \n",
              "6  Share This Baylee Luciani (left), Screenshot o...  FAKE  \n",
              "7  A Czech stockbroker who saved more than 650 Je...  REAL  \n",
              "8  Hillary Clinton and Donald Trump made some ina...  REAL  \n",
              "9  Iranian negotiators reportedly have made a las...  REAL  "
            ]
          },
          "metadata": {
            "tags": []
          },
          "execution_count": 2
        }
      ]
    },
    {
      "metadata": {
        "id": "FtuRTJ27_nZ-",
        "colab_type": "code",
        "outputId": "32207c02-da7c-45ba-fc36-c068e0a0c911",
        "colab": {
          "base_uri": "https://localhost:8080/",
          "height": 179
        }
      },
      "cell_type": "code",
      "source": [
        "df.info()"
      ],
      "execution_count": 3,
      "outputs": [
        {
          "output_type": "stream",
          "text": [
            "<class 'pandas.core.frame.DataFrame'>\n",
            "RangeIndex: 6335 entries, 0 to 6334\n",
            "Data columns (total 4 columns):\n",
            "Unnamed: 0    6335 non-null int64\n",
            "title         6335 non-null object\n",
            "text          6335 non-null object\n",
            "label         6335 non-null object\n",
            "dtypes: int64(1), object(3)\n",
            "memory usage: 198.0+ KB\n"
          ],
          "name": "stdout"
        }
      ]
    },
    {
      "metadata": {
        "id": "qlMkUB5w_naO",
        "colab_type": "code",
        "outputId": "90de3dbb-aa7f-411f-bc19-2f39fe1e1a0a",
        "colab": {
          "base_uri": "https://localhost:8080/",
          "height": 35
        }
      },
      "cell_type": "code",
      "source": [
        "df.shape"
      ],
      "execution_count": 4,
      "outputs": [
        {
          "output_type": "execute_result",
          "data": {
            "text/plain": [
              "(6335, 4)"
            ]
          },
          "metadata": {
            "tags": []
          },
          "execution_count": 4
        }
      ]
    },
    {
      "metadata": {
        "id": "LQY6RhH_UKKm",
        "colab_type": "code",
        "outputId": "fa0a29f8-ef9b-4b03-fd3d-4a7d6418defb",
        "colab": {
          "base_uri": "https://localhost:8080/",
          "height": 107
        }
      },
      "cell_type": "code",
      "source": [
        "df.isnull().sum()"
      ],
      "execution_count": 5,
      "outputs": [
        {
          "output_type": "execute_result",
          "data": {
            "text/plain": [
              "Unnamed: 0    0\n",
              "title         0\n",
              "text          0\n",
              "label         0\n",
              "dtype: int64"
            ]
          },
          "metadata": {
            "tags": []
          },
          "execution_count": 5
        }
      ]
    },
    {
      "metadata": {
        "id": "_LDKk5Vh_nae",
        "colab_type": "code",
        "colab": {}
      },
      "cell_type": "code",
      "source": [
        "# length of titile \n",
        "df['length_title']=df['title'].apply(len)"
      ],
      "execution_count": 0,
      "outputs": []
    },
    {
      "metadata": {
        "scrolled": true,
        "id": "oZw9LyCf_nam",
        "colab_type": "code",
        "outputId": "4c93d390-a8bc-4c7c-f2bb-4c27d2327bcf",
        "colab": {
          "base_uri": "https://localhost:8080/",
          "height": 359
        }
      },
      "cell_type": "code",
      "source": [
        "# length of words in each row\n",
        "df['length_text'] =df['text'].apply(len)\n",
        "df.head(10)"
      ],
      "execution_count": 0,
      "outputs": [
        {
          "output_type": "execute_result",
          "data": {
            "text/html": [
              "<div>\n",
              "<style scoped>\n",
              "    .dataframe tbody tr th:only-of-type {\n",
              "        vertical-align: middle;\n",
              "    }\n",
              "\n",
              "    .dataframe tbody tr th {\n",
              "        vertical-align: top;\n",
              "    }\n",
              "\n",
              "    .dataframe thead th {\n",
              "        text-align: right;\n",
              "    }\n",
              "</style>\n",
              "<table border=\"1\" class=\"dataframe\">\n",
              "  <thead>\n",
              "    <tr style=\"text-align: right;\">\n",
              "      <th></th>\n",
              "      <th>Unnamed: 0</th>\n",
              "      <th>title</th>\n",
              "      <th>text</th>\n",
              "      <th>label</th>\n",
              "      <th>length_title</th>\n",
              "      <th>length_text</th>\n",
              "    </tr>\n",
              "  </thead>\n",
              "  <tbody>\n",
              "    <tr>\n",
              "      <th>0</th>\n",
              "      <td>8476</td>\n",
              "      <td>You Can Smell Hillary’s Fear</td>\n",
              "      <td>Daniel Greenfield, a Shillman Journalism Fello...</td>\n",
              "      <td>FAKE</td>\n",
              "      <td>28</td>\n",
              "      <td>7518</td>\n",
              "    </tr>\n",
              "    <tr>\n",
              "      <th>1</th>\n",
              "      <td>10294</td>\n",
              "      <td>Watch The Exact Moment Paul Ryan Committed Pol...</td>\n",
              "      <td>Google Pinterest Digg Linkedin Reddit Stumbleu...</td>\n",
              "      <td>FAKE</td>\n",
              "      <td>85</td>\n",
              "      <td>2646</td>\n",
              "    </tr>\n",
              "    <tr>\n",
              "      <th>2</th>\n",
              "      <td>3608</td>\n",
              "      <td>Kerry to go to Paris in gesture of sympathy</td>\n",
              "      <td>U.S. Secretary of State John F. Kerry said Mon...</td>\n",
              "      <td>REAL</td>\n",
              "      <td>43</td>\n",
              "      <td>2543</td>\n",
              "    </tr>\n",
              "    <tr>\n",
              "      <th>3</th>\n",
              "      <td>10142</td>\n",
              "      <td>Bernie supporters on Twitter erupt in anger ag...</td>\n",
              "      <td>— Kaydee King (@KaydeeKing) November 9, 2016 T...</td>\n",
              "      <td>FAKE</td>\n",
              "      <td>84</td>\n",
              "      <td>2660</td>\n",
              "    </tr>\n",
              "    <tr>\n",
              "      <th>4</th>\n",
              "      <td>875</td>\n",
              "      <td>The Battle of New York: Why This Primary Matters</td>\n",
              "      <td>It's primary day in New York and front-runners...</td>\n",
              "      <td>REAL</td>\n",
              "      <td>48</td>\n",
              "      <td>1840</td>\n",
              "    </tr>\n",
              "    <tr>\n",
              "      <th>5</th>\n",
              "      <td>6903</td>\n",
              "      <td>Tehran, USA</td>\n",
              "      <td>\\nI’m not an immigrant, but my grandparents ...</td>\n",
              "      <td>FAKE</td>\n",
              "      <td>11</td>\n",
              "      <td>13333</td>\n",
              "    </tr>\n",
              "    <tr>\n",
              "      <th>6</th>\n",
              "      <td>7341</td>\n",
              "      <td>Girl Horrified At What She Watches Boyfriend D...</td>\n",
              "      <td>Share This Baylee Luciani (left), Screenshot o...</td>\n",
              "      <td>FAKE</td>\n",
              "      <td>73</td>\n",
              "      <td>3171</td>\n",
              "    </tr>\n",
              "    <tr>\n",
              "      <th>7</th>\n",
              "      <td>95</td>\n",
              "      <td>‘Britain’s Schindler’ Dies at 106</td>\n",
              "      <td>A Czech stockbroker who saved more than 650 Je...</td>\n",
              "      <td>REAL</td>\n",
              "      <td>33</td>\n",
              "      <td>783</td>\n",
              "    </tr>\n",
              "    <tr>\n",
              "      <th>8</th>\n",
              "      <td>4869</td>\n",
              "      <td>Fact check: Trump and Clinton at the 'commande...</td>\n",
              "      <td>Hillary Clinton and Donald Trump made some ina...</td>\n",
              "      <td>REAL</td>\n",
              "      <td>63</td>\n",
              "      <td>13863</td>\n",
              "    </tr>\n",
              "    <tr>\n",
              "      <th>9</th>\n",
              "      <td>2909</td>\n",
              "      <td>Iran reportedly makes new push for uranium con...</td>\n",
              "      <td>Iranian negotiators reportedly have made a las...</td>\n",
              "      <td>REAL</td>\n",
              "      <td>71</td>\n",
              "      <td>4296</td>\n",
              "    </tr>\n",
              "  </tbody>\n",
              "</table>\n",
              "</div>"
            ],
            "text/plain": [
              "   Unnamed: 0                                              title  \\\n",
              "0        8476                       You Can Smell Hillary’s Fear   \n",
              "1       10294  Watch The Exact Moment Paul Ryan Committed Pol...   \n",
              "2        3608        Kerry to go to Paris in gesture of sympathy   \n",
              "3       10142  Bernie supporters on Twitter erupt in anger ag...   \n",
              "4         875   The Battle of New York: Why This Primary Matters   \n",
              "5        6903                                        Tehran, USA   \n",
              "6        7341  Girl Horrified At What She Watches Boyfriend D...   \n",
              "7          95                  ‘Britain’s Schindler’ Dies at 106   \n",
              "8        4869  Fact check: Trump and Clinton at the 'commande...   \n",
              "9        2909  Iran reportedly makes new push for uranium con...   \n",
              "\n",
              "                                                text label  length_title  \\\n",
              "0  Daniel Greenfield, a Shillman Journalism Fello...  FAKE            28   \n",
              "1  Google Pinterest Digg Linkedin Reddit Stumbleu...  FAKE            85   \n",
              "2  U.S. Secretary of State John F. Kerry said Mon...  REAL            43   \n",
              "3  — Kaydee King (@KaydeeKing) November 9, 2016 T...  FAKE            84   \n",
              "4  It's primary day in New York and front-runners...  REAL            48   \n",
              "5    \\nI’m not an immigrant, but my grandparents ...  FAKE            11   \n",
              "6  Share This Baylee Luciani (left), Screenshot o...  FAKE            73   \n",
              "7  A Czech stockbroker who saved more than 650 Je...  REAL            33   \n",
              "8  Hillary Clinton and Donald Trump made some ina...  REAL            63   \n",
              "9  Iranian negotiators reportedly have made a las...  REAL            71   \n",
              "\n",
              "   length_text  \n",
              "0         7518  \n",
              "1         2646  \n",
              "2         2543  \n",
              "3         2660  \n",
              "4         1840  \n",
              "5        13333  \n",
              "6         3171  \n",
              "7          783  \n",
              "8        13863  \n",
              "9         4296  "
            ]
          },
          "metadata": {
            "tags": []
          },
          "execution_count": 7
        }
      ]
    },
    {
      "metadata": {
        "id": "CiRH1wFj_nav",
        "colab_type": "code",
        "outputId": "57b5a402-8a70-48a0-8592-32ad33a7b255",
        "colab": {
          "base_uri": "https://localhost:8080/",
          "height": 53
        }
      },
      "cell_type": "code",
      "source": [
        "# total number of words in text and title\n",
        "print('Total no. of words in text',df['length_text'].sum())\n",
        "print('Total no. of words in title',df['length_title'].sum())"
      ],
      "execution_count": 0,
      "outputs": [
        {
          "output_type": "stream",
          "text": [
            "Total no. of words in text 29820431\n",
            "Total no. of words in title 413534\n"
          ],
          "name": "stdout"
        }
      ]
    },
    {
      "metadata": {
        "id": "yXEA5LbF_na3",
        "colab_type": "code",
        "outputId": "2ffa8fc7-dc97-4165-c8eb-866ac9ac9508",
        "colab": {
          "base_uri": "https://localhost:8080/",
          "height": 179
        }
      },
      "cell_type": "code",
      "source": [
        "df['length_title'].describe()"
      ],
      "execution_count": 0,
      "outputs": [
        {
          "output_type": "execute_result",
          "data": {
            "text/plain": [
              "count    6335.000000\n",
              "mean       65.277664\n",
              "std        23.733657\n",
              "min         1.000000\n",
              "25%        49.000000\n",
              "50%        64.000000\n",
              "75%        78.000000\n",
              "max       289.000000\n",
              "Name: length_title, dtype: float64"
            ]
          },
          "metadata": {
            "tags": []
          },
          "execution_count": 9
        }
      ]
    },
    {
      "metadata": {
        "id": "tqcdKvD2_nbA",
        "colab_type": "code",
        "outputId": "6d2ef84a-f25a-4cc3-aa9e-21d8b3f63102",
        "colab": {
          "base_uri": "https://localhost:8080/",
          "height": 179
        }
      },
      "cell_type": "code",
      "source": [
        "df['length_text'].describe()"
      ],
      "execution_count": 0,
      "outputs": [
        {
          "output_type": "execute_result",
          "data": {
            "text/plain": [
              "count      6335.000000\n",
              "mean       4707.250355\n",
              "std        5090.956446\n",
              "min           1.000000\n",
              "25%        1741.500000\n",
              "50%        3642.000000\n",
              "75%        6192.000000\n",
              "max      115372.000000\n",
              "Name: length_text, dtype: float64"
            ]
          },
          "metadata": {
            "tags": []
          },
          "execution_count": 10
        }
      ]
    },
    {
      "metadata": {
        "scrolled": true,
        "id": "a-xtLMMt_nbI",
        "colab_type": "code",
        "outputId": "e167b345-596e-46fd-a7dc-c98f1de70267",
        "colab": {
          "base_uri": "https://localhost:8080/",
          "height": 35
        }
      },
      "cell_type": "code",
      "source": [
        "# different labels in label col.\n",
        "df['label'].unique()"
      ],
      "execution_count": 0,
      "outputs": [
        {
          "output_type": "execute_result",
          "data": {
            "text/plain": [
              "array(['FAKE', 'REAL'], dtype=object)"
            ]
          },
          "metadata": {
            "tags": []
          },
          "execution_count": 11
        }
      ]
    },
    {
      "metadata": {
        "id": "vW55RWNu_nbR",
        "colab_type": "code",
        "outputId": "0e65a5d4-9152-4c59-d146-a9d262a8c510",
        "colab": {
          "base_uri": "https://localhost:8080/",
          "height": 71
        }
      },
      "cell_type": "code",
      "source": [
        "# number of each label in data\n",
        "(df['label']).value_counts()"
      ],
      "execution_count": 0,
      "outputs": [
        {
          "output_type": "execute_result",
          "data": {
            "text/plain": [
              "REAL    3171\n",
              "FAKE    3164\n",
              "Name: label, dtype: int64"
            ]
          },
          "metadata": {
            "tags": []
          },
          "execution_count": 12
        }
      ]
    },
    {
      "metadata": {
        "id": "N3MqgBq2_nbZ",
        "colab_type": "code",
        "outputId": "36cc5d37-fbac-4b05-9e6d-8f7af369cecc",
        "colab": {
          "base_uri": "https://localhost:8080/",
          "height": 415
        }
      },
      "cell_type": "code",
      "source": [
        "# plotting labels\n",
        "sns.set(style=\"darkgrid\")\n",
        "sns.countplot(df['label'],palette=\"Set1\")"
      ],
      "execution_count": 0,
      "outputs": [
        {
          "output_type": "stream",
          "text": [
            "/usr/local/lib/python3.6/dist-packages/seaborn/categorical.py:1428: FutureWarning: remove_na is deprecated and is a private function. Do not use.\n",
            "  stat_data = remove_na(group_data)\n"
          ],
          "name": "stderr"
        },
        {
          "output_type": "execute_result",
          "data": {
            "text/plain": [
              "<matplotlib.axes._subplots.AxesSubplot at 0x7f7c43025cf8>"
            ]
          },
          "metadata": {
            "tags": []
          },
          "execution_count": 13
        },
        {
          "output_type": "display_data",
          "data": {
            "image/png": "[encoded data removed]",
            "text/plain": [
              "<Figure size 576x396 with 1 Axes>"
            ]
          },
          "metadata": {
            "tags": []
          }
        }
      ]
    },
    {
      "metadata": {
        "id": "ZG8F1i8N_nbj",
        "colab_type": "code",
        "outputId": "ff719756-e0e7-4fba-bb46-c7411374e5bf",
        "colab": {
          "base_uri": "https://localhost:8080/",
          "height": 415
        }
      },
      "cell_type": "code",
      "source": [
        "# plotting label with length of title\n",
        "sns.barplot(x=df['label'], y=df['length_title'], data=df)"
      ],
      "execution_count": 0,
      "outputs": [
        {
          "output_type": "stream",
          "text": [
            "/usr/local/lib/python3.6/dist-packages/seaborn/categorical.py:1428: FutureWarning: remove_na is deprecated and is a private function. Do not use.\n",
            "  stat_data = remove_na(group_data)\n"
          ],
          "name": "stderr"
        },
        {
          "output_type": "execute_result",
          "data": {
            "text/plain": [
              "<matplotlib.axes._subplots.AxesSubplot at 0x7f7c42fa5390>"
            ]
          },
          "metadata": {
            "tags": []
          },
          "execution_count": 14
        },
        {
          "output_type": "display_data",
          "data": {
            "image/png": "[encoded data removed]",
            "text/plain": [
              "<Figure size 576x396 with 1 Axes>"
            ]
          },
          "metadata": {
            "tags": []
          }
        }
      ]
    },
    {
      "metadata": {
        "scrolled": false,
        "id": "1n6St3pf_nbw",
        "colab_type": "code",
        "outputId": "567eb52d-2823-4694-dc55-4027dd8ffd51",
        "colab": {
          "base_uri": "https://localhost:8080/",
          "height": 415
        }
      },
      "cell_type": "code",
      "source": [
        "# plotting labels with length of text\n",
        "sns.barplot(x=df['label'], y=df['length_text'], data=df)"
      ],
      "execution_count": 0,
      "outputs": [
        {
          "output_type": "stream",
          "text": [
            "/usr/local/lib/python3.6/dist-packages/seaborn/categorical.py:1428: FutureWarning: remove_na is deprecated and is a private function. Do not use.\n",
            "  stat_data = remove_na(group_data)\n"
          ],
          "name": "stderr"
        },
        {
          "output_type": "execute_result",
          "data": {
            "text/plain": [
              "<matplotlib.axes._subplots.AxesSubplot at 0x7f7c40f29cf8>"
            ]
          },
          "metadata": {
            "tags": []
          },
          "execution_count": 15
        },
        {
          "output_type": "display_data",
          "data": {
            "image/png": "[encoded data removed]",
            "text/plain": [
              "<Figure size 576x396 with 1 Axes>"
            ]
          },
          "metadata": {
            "tags": []
          }
        }
      ]
    },
    {
      "metadata": {
        "id": "FylPDgZv_nb4",
        "colab_type": "code",
        "outputId": "1cb37b59-5277-4f46-b2e5-d9e1e6b90cfe",
        "colab": {
          "base_uri": "https://localhost:8080/",
          "height": 338
        }
      },
      "cell_type": "code",
      "source": [
        "# plotting number of words used in data\n",
        "df['length_title'].plot(bins=30,kind = 'hist',figsize = (10,5))"
      ],
      "execution_count": 0,
      "outputs": [
        {
          "output_type": "execute_result",
          "data": {
            "text/plain": [
              "<matplotlib.axes._subplots.AxesSubplot at 0x7f7c40ea10f0>"
            ]
          },
          "metadata": {
            "tags": []
          },
          "execution_count": 16
        },
        {
          "output_type": "display_data",
          "data": {
            "image/png": "[encoded data removed]",
            "text/plain": [
              "<Figure size 720x360 with 1 Axes>"
            ]
          },
          "metadata": {
            "tags": []
          }
        }
      ]
    },
    {
      "metadata": {
        "scrolled": false,
        "id": "busKgIRq_ncA",
        "colab_type": "code",
        "outputId": "f30cdd7a-f158-4b38-87f7-81ba361f3f5c",
        "colab": {
          "base_uri": "https://localhost:8080/",
          "height": 338
        }
      },
      "cell_type": "code",
      "source": [
        "df['length_text'].plot(bins=30,kind = 'hist',figsize = (10,5))"
      ],
      "execution_count": 0,
      "outputs": [
        {
          "output_type": "execute_result",
          "data": {
            "text/plain": [
              "<matplotlib.axes._subplots.AxesSubplot at 0x7f7c40de51d0>"
            ]
          },
          "metadata": {
            "tags": []
          },
          "execution_count": 17
        },
        {
          "output_type": "display_data",
          "data": {
            "image/png": "[encoded data removed]",
            "text/plain": [
              "<Figure size 720x360 with 1 Axes>"
            ]
          },
          "metadata": {
            "tags": []
          }
        }
      ]
    },
    {
      "metadata": {
        "id": "N1lUsETX_ncN",
        "colab_type": "code",
        "outputId": "61a60a7e-0957-4bd9-c765-628409284958",
        "colab": {
          "base_uri": "https://localhost:8080/",
          "height": 394
        }
      },
      "cell_type": "code",
      "source": [
        "df.hist(column='length_title',by ='label',bins=50,figsize = (20,5))"
      ],
      "execution_count": 0,
      "outputs": [
        {
          "output_type": "execute_result",
          "data": {
            "text/plain": [
              "array([<matplotlib.axes._subplots.AxesSubplot object at 0x7f7c40d6d4a8>,\n",
              "       <matplotlib.axes._subplots.AxesSubplot object at 0x7f7c40d29908>],\n",
              "      dtype=object)"
            ]
          },
          "metadata": {
            "tags": []
          },
          "execution_count": 18
        },
        {
          "output_type": "display_data",
          "data": {
            "image/png": "[encoded data removed]",
            "text/plain": [
              "<Figure size 1440x360 with 2 Axes>"
            ]
          },
          "metadata": {
            "tags": []
          }
        }
      ]
    },
    {
      "metadata": {
        "scrolled": false,
        "id": "t8UkEQsY_ncZ",
        "colab_type": "code",
        "outputId": "bf874caf-423d-4ca6-8dcb-d302acdbd4f4",
        "colab": {
          "base_uri": "https://localhost:8080/",
          "height": 411
        }
      },
      "cell_type": "code",
      "source": [
        "df.hist(column='length_text',by ='label',bins=50,figsize = (20,5))"
      ],
      "execution_count": 0,
      "outputs": [
        {
          "output_type": "execute_result",
          "data": {
            "text/plain": [
              "array([<matplotlib.axes._subplots.AxesSubplot object at 0x7f7c40c9a860>,\n",
              "       <matplotlib.axes._subplots.AxesSubplot object at 0x7f7c40b4a898>],\n",
              "      dtype=object)"
            ]
          },
          "metadata": {
            "tags": []
          },
          "execution_count": 19
        },
        {
          "output_type": "display_data",
          "data": {
            "image/png": "[encoded data removed]",
            "text/plain": [
              "<Figure size 1440x360 with 2 Axes>"
            ]
          },
          "metadata": {
            "tags": []
          }
        }
      ]
    },
    {
      "metadata": {
        "id": "pkBGo_-6Quib",
        "colab_type": "code",
        "outputId": "94c07625-338d-494f-ef33-9a1a15f7d434",
        "colab": {
          "base_uri": "https://localhost:8080/",
          "height": 143
        }
      },
      "cell_type": "code",
      "source": [
        "import nltk\n",
        "nltk.download('punkt')\n",
        "nltk.download('stopwords')\n",
        "nltk.download('wordnet')"
      ],
      "execution_count": 7,
      "outputs": [
        {
          "output_type": "stream",
          "text": [
            "[nltk_data] Downloading package punkt to /root/nltk_data...\n",
            "[nltk_data]   Package punkt is already up-to-date!\n",
            "[nltk_data] Downloading package stopwords to /root/nltk_data...\n",
            "[nltk_data]   Package stopwords is already up-to-date!\n",
            "[nltk_data] Downloading package wordnet to /root/nltk_data...\n",
            "[nltk_data]   Package wordnet is already up-to-date!\n"
          ],
          "name": "stdout"
        },
        {
          "output_type": "execute_result",
          "data": {
            "text/plain": [
              "True"
            ]
          },
          "metadata": {
            "tags": []
          },
          "execution_count": 7
        }
      ]
    },
    {
      "metadata": {
        "id": "JlmzAiGvQ6iZ",
        "colab_type": "text"
      },
      "cell_type": "markdown",
      "source": [
        "**Data Preprocessing**"
      ]
    },
    {
      "metadata": {
        "id": "IPh8oONRRFL4",
        "colab_type": "code",
        "colab": {}
      },
      "cell_type": "code",
      "source": [
        "import re\n",
        "from string import punctuation\n",
        "from nltk.corpus import stopwords\n",
        "stop_list = stopwords.words('english')+['“', '’','”']"
      ],
      "execution_count": 0,
      "outputs": []
    },
    {
      "metadata": {
        "id": "aVQeGrce_ncm",
        "colab_type": "code",
        "colab": {}
      },
      "cell_type": "code",
      "source": [
        "# Fill any blank fields\n",
        "df.title.fillna(\"\", inplace=True)\n",
        "df.text.fillna(\"\", inplace=True)\n",
        "\n",
        "# Join the title and text\n",
        "all_text = df.title.str.cat(df.text, sep=' ')\n",
        "\n",
        "# Tokenize using nltk\n",
        "words = nltk.word_tokenize(\" \".join(all_text.tolist()))"
      ],
      "execution_count": 0,
      "outputs": []
    },
    {
      "metadata": {
        "id": "_FPNFmuo_ncw",
        "colab_type": "code",
        "outputId": "f6c37ae0-6b6d-4868-de22-9358fc160bad",
        "colab": {
          "base_uri": "https://localhost:8080/",
          "height": 35
        }
      },
      "cell_type": "code",
      "source": [
        "# List of most common tokenized words\n",
        "w=Counter(words)\n",
        "print(w.most_common(10))"
      ],
      "execution_count": 0,
      "outputs": [
        {
          "output_type": "stream",
          "text": [
            "[('the', 260785), (',', 257366), ('.', 204373), ('to', 138702), ('of', 129473), ('and', 113209), ('a', 103888), ('in', 90318), ('that', 68344), ('’', 59841)]\n"
          ],
          "name": "stdout"
        }
      ]
    },
    {
      "metadata": {
        "id": "fH4H6tyT_nc3",
        "colab_type": "code",
        "outputId": "102517a5-49bf-4f96-92ad-09c6fdc016de",
        "colab": {
          "base_uri": "https://localhost:8080/",
          "height": 35
        }
      },
      "cell_type": "code",
      "source": [
        "len(words)  "
      ],
      "execution_count": 0,
      "outputs": [
        {
          "output_type": "execute_result",
          "data": {
            "text/plain": [
              "5783722"
            ]
          },
          "metadata": {
            "tags": []
          },
          "execution_count": 24
        }
      ]
    },
    {
      "metadata": {
        "scrolled": true,
        "id": "eyWwHttD_neG",
        "colab_type": "code",
        "colab": {}
      },
      "cell_type": "code",
      "source": [
        "# cleaning tokenize words\n",
        "from nltk.corpus import stopwords\n",
        "import string\n",
        "\n",
        "cleanwords = [i for i in words if i not in (stop_list + list(punctuation)) and i.isalpha() and len(i) > 2]"
      ],
      "execution_count": 0,
      "outputs": []
    },
    {
      "metadata": {
        "id": "GxTz9eLSZGJk",
        "colab_type": "code",
        "outputId": "faf64c3e-f6a1-4643-de04-4e1d424483af",
        "colab": {
          "base_uri": "https://localhost:8080/",
          "height": 35
        }
      },
      "cell_type": "code",
      "source": [
        "len(cleanwords)"
      ],
      "execution_count": 0,
      "outputs": [
        {
          "output_type": "execute_result",
          "data": {
            "text/plain": [
              "2745292"
            ]
          },
          "metadata": {
            "tags": []
          },
          "execution_count": 26
        }
      ]
    },
    {
      "metadata": {
        "id": "SenywYqi_neL",
        "colab_type": "code",
        "outputId": "4e4fab90-3140-4373-af17-60042ece089d",
        "colab": {
          "base_uri": "https://localhost:8080/",
          "height": 432
        }
      },
      "cell_type": "code",
      "source": [
        "# words used in news \n",
        "from wordcloud import WordCloud, STOPWORDS\n",
        "\n",
        "wordcloud2 = WordCloud(\n",
        "                          stopwords=STOPWORDS,\n",
        "                          background_color='black',\n",
        "                          width=1200,\n",
        "                          height=1000\n",
        "                         ).generate(\" \".join(cleanwords))\n",
        "\n",
        "\n",
        "plt.figure(figsize = (15,7))\n",
        "plt.imshow(wordcloud2)\n",
        "plt.axis('off')\n",
        "plt.show();"
      ],
      "execution_count": 0,
      "outputs": [
        {
          "output_type": "display_data",
          "data": {
            "image/png": "[encoded data removed]",
            "text/plain": [
              "<Figure size 1080x504 with 1 Axes>"
            ]
          },
          "metadata": {
            "tags": []
          }
        }
      ]
    },
    {
      "metadata": {
        "id": "_Rb9IZhp_nfb",
        "colab_type": "code",
        "colab": {}
      },
      "cell_type": "code",
      "source": [
        "# checking pairs of tokenized words used in news\n",
        "bigrams = nltk.bigrams(cleanwords)"
      ],
      "execution_count": 0,
      "outputs": []
    },
    {
      "metadata": {
        "id": "LSvTpu07_nfo",
        "colab_type": "code",
        "outputId": "fb13398f-4d8c-4b10-9403-d1d88b92c223",
        "colab": {
          "base_uri": "https://localhost:8080/",
          "height": 55
        }
      },
      "cell_type": "code",
      "source": [
        "# Most common words in text of news article\n",
        "counter = Counter(bigrams)\n",
        "print(counter.most_common(10))"
      ],
      "execution_count": 0,
      "outputs": [
        {
          "output_type": "stream",
          "text": [
            "[(('Hillary', 'Clinton'), 4519), (('Donald', 'Trump'), 4019), (('United', 'States'), 2999), (('White', 'House'), 2399), (('New', 'York'), 2171), (('President', 'Obama'), 1220), (('Fox', 'News'), 1178), (('New', 'Hampshire'), 1010), (('Supreme', 'Court'), 997), (('Barack', 'Obama'), 961)]\n"
          ],
          "name": "stdout"
        }
      ]
    },
    {
      "metadata": {
        "id": "-4coZb6R_ngT",
        "colab_type": "text"
      },
      "cell_type": "markdown",
      "source": [
        "Most common words used in news articles"
      ]
    },
    {
      "metadata": {
        "id": "Hfj3djUr_ngV",
        "colab_type": "code",
        "outputId": "52fc9847-45c6-4dd5-feea-fd7ac76857b3",
        "colab": {
          "base_uri": "https://localhost:8080/",
          "height": 654
        }
      },
      "cell_type": "code",
      "source": [
        "num_to_show = 30\n",
        "\n",
        "labels = [\" \".join(e[0]) for e in counter.most_common(num_to_show)]\n",
        "values = [e[1] for e in counter.most_common(num_to_show)]\n",
        "\n",
        "indexes = np.arange(len(labels))\n",
        "width = 1\n",
        "\n",
        "#plt.bar(indexes, values, width)\n",
        "#plt.xticks(indexes + width * 0.5, labels, rotation=90)\n",
        "fig=plt.figure(figsize=(10, 10), dpi= 80, facecolor='w', edgecolor='k')\n",
        "plt.barh(indexes, values, width)\n",
        "plt.yticks(indexes + width * 0.2, labels)\n",
        "plt.show()"
      ],
      "execution_count": 0,
      "outputs": [
        {
          "output_type": "display_data",
          "data": {
            "image/png": "[encoded data removed]",
            "text/plain": [
              "<Figure size 800x800 with 1 Axes>"
            ]
          },
          "metadata": {
            "tags": []
          }
        }
      ]
    },
    {
      "metadata": {
        "id": "evAiDgDotOzZ",
        "colab_type": "code",
        "colab": {}
      },
      "cell_type": "code",
      "source": [
        "df.drop(columns=['length_title','length_text'], axis=1, inplace=True)"
      ],
      "execution_count": 0,
      "outputs": []
    },
    {
      "metadata": {
        "id": "DgDhS04NKr9t",
        "colab_type": "code",
        "colab": {}
      },
      "cell_type": "code",
      "source": [
        "from nltk.stem import WordNetLemmatizer\n",
        "wordnet_lemmatizer = WordNetLemmatizer()"
      ],
      "execution_count": 0,
      "outputs": []
    },
    {
      "metadata": {
        "id": "lZOT31vsd3vu",
        "colab_type": "code",
        "colab": {}
      },
      "cell_type": "code",
      "source": [
        "def token_lemmatize(text):\n",
        "    tokens = nltk.word_tokenize(text)\n",
        "    tokens= [i for i in tokens if i not in (stop_list + list(punctuation)) and i.isalpha() and len(i) > 2]\n",
        "    filtered_tokens = []\n",
        "    for token in tokens:\n",
        "        if re.search('[a-zA-Z]',token):\n",
        "            filtered_tokens.append(token)\n",
        "    lemmatize= [wordnet_lemmatizer.lemmatize(t) for t in filtered_tokens]\n",
        "    return lemmatize"
      ],
      "execution_count": 0,
      "outputs": []
    },
    {
      "metadata": {
        "id": "NLS2VTZbOPxP",
        "colab_type": "code",
        "outputId": "5586fe6c-73ff-43e1-ed62-e8e82097fcc8",
        "colab": {
          "base_uri": "https://localhost:8080/",
          "height": 204
        }
      },
      "cell_type": "code",
      "source": [
        "df['combined text'] = df.title + ' ' + df.text\n",
        "df.head()"
      ],
      "execution_count": 12,
      "outputs": [
        {
          "output_type": "execute_result",
          "data": {
            "text/html": [
              "<div>\n",
              "<style scoped>\n",
              "    .dataframe tbody tr th:only-of-type {\n",
              "        vertical-align: middle;\n",
              "    }\n",
              "\n",
              "    .dataframe tbody tr th {\n",
              "        vertical-align: top;\n",
              "    }\n",
              "\n",
              "    .dataframe thead th {\n",
              "        text-align: right;\n",
              "    }\n",
              "</style>\n",
              "<table border=\"1\" class=\"dataframe\">\n",
              "  <thead>\n",
              "    <tr style=\"text-align: right;\">\n",
              "      <th></th>\n",
              "      <th>Unnamed: 0</th>\n",
              "      <th>title</th>\n",
              "      <th>text</th>\n",
              "      <th>label</th>\n",
              "      <th>combined text</th>\n",
              "    </tr>\n",
              "  </thead>\n",
              "  <tbody>\n",
              "    <tr>\n",
              "      <th>0</th>\n",
              "      <td>8476</td>\n",
              "      <td>You Can Smell Hillary’s Fear</td>\n",
              "      <td>Daniel Greenfield, a Shillman Journalism Fello...</td>\n",
              "      <td>FAKE</td>\n",
              "      <td>You Can Smell Hillary’s Fear Daniel Greenfield...</td>\n",
              "    </tr>\n",
              "    <tr>\n",
              "      <th>1</th>\n",
              "      <td>10294</td>\n",
              "      <td>Watch The Exact Moment Paul Ryan Committed Pol...</td>\n",
              "      <td>Google Pinterest Digg Linkedin Reddit Stumbleu...</td>\n",
              "      <td>FAKE</td>\n",
              "      <td>Watch The Exact Moment Paul Ryan Committed Pol...</td>\n",
              "    </tr>\n",
              "    <tr>\n",
              "      <th>2</th>\n",
              "      <td>3608</td>\n",
              "      <td>Kerry to go to Paris in gesture of sympathy</td>\n",
              "      <td>U.S. Secretary of State John F. Kerry said Mon...</td>\n",
              "      <td>REAL</td>\n",
              "      <td>Kerry to go to Paris in gesture of sympathy U....</td>\n",
              "    </tr>\n",
              "    <tr>\n",
              "      <th>3</th>\n",
              "      <td>10142</td>\n",
              "      <td>Bernie supporters on Twitter erupt in anger ag...</td>\n",
              "      <td>— Kaydee King (@KaydeeKing) November 9, 2016 T...</td>\n",
              "      <td>FAKE</td>\n",
              "      <td>Bernie supporters on Twitter erupt in anger ag...</td>\n",
              "    </tr>\n",
              "    <tr>\n",
              "      <th>4</th>\n",
              "      <td>875</td>\n",
              "      <td>The Battle of New York: Why This Primary Matters</td>\n",
              "      <td>It's primary day in New York and front-runners...</td>\n",
              "      <td>REAL</td>\n",
              "      <td>The Battle of New York: Why This Primary Matte...</td>\n",
              "    </tr>\n",
              "  </tbody>\n",
              "</table>\n",
              "</div>"
            ],
            "text/plain": [
              "   Unnamed: 0                                              title  \\\n",
              "0        8476                       You Can Smell Hillary’s Fear   \n",
              "1       10294  Watch The Exact Moment Paul Ryan Committed Pol...   \n",
              "2        3608        Kerry to go to Paris in gesture of sympathy   \n",
              "3       10142  Bernie supporters on Twitter erupt in anger ag...   \n",
              "4         875   The Battle of New York: Why This Primary Matters   \n",
              "\n",
              "                                                text label  \\\n",
              "0  Daniel Greenfield, a Shillman Journalism Fello...  FAKE   \n",
              "1  Google Pinterest Digg Linkedin Reddit Stumbleu...  FAKE   \n",
              "2  U.S. Secretary of State John F. Kerry said Mon...  REAL   \n",
              "3  — Kaydee King (@KaydeeKing) November 9, 2016 T...  FAKE   \n",
              "4  It's primary day in New York and front-runners...  REAL   \n",
              "\n",
              "                                       combined text  \n",
              "0  You Can Smell Hillary’s Fear Daniel Greenfield...  \n",
              "1  Watch The Exact Moment Paul Ryan Committed Pol...  \n",
              "2  Kerry to go to Paris in gesture of sympathy U....  \n",
              "3  Bernie supporters on Twitter erupt in anger ag...  \n",
              "4  The Battle of New York: Why This Primary Matte...  "
            ]
          },
          "metadata": {
            "tags": []
          },
          "execution_count": 12
        }
      ]
    },
    {
      "metadata": {
        "id": "gdeLqDSKuKNR",
        "colab_type": "code",
        "colab": {}
      },
      "cell_type": "code",
      "source": [
        "df.drop(columns=['title','text'], axis=1, inplace=True)"
      ],
      "execution_count": 0,
      "outputs": []
    },
    {
      "metadata": {
        "id": "ddHgw25CxfSr",
        "colab_type": "text"
      },
      "cell_type": "markdown",
      "source": [
        "**Splitting the data into Train and Test set**"
      ]
    },
    {
      "metadata": {
        "scrolled": true,
        "id": "fZ72zXIg_nhm",
        "colab_type": "code",
        "colab": {}
      },
      "cell_type": "code",
      "source": [
        "y=df.label"
      ],
      "execution_count": 0,
      "outputs": []
    },
    {
      "metadata": {
        "id": "_rfjUWjj_nhx",
        "colab_type": "code",
        "colab": {}
      },
      "cell_type": "code",
      "source": [
        "X_train, X_test, y_train, y_test = train_test_split(df['combined text'], y, test_size=0.33, random_state=53)"
      ],
      "execution_count": 0,
      "outputs": []
    },
    {
      "metadata": {
        "id": "BiBtWXoLvZnJ",
        "colab_type": "text"
      },
      "cell_type": "markdown",
      "source": [
        "**Building Vectorizer Classifiers**\n",
        "\n",
        "Now that you have your training and testing data, you can build your classifiers. To get a good idea if the words and tokens in the articles had a significant impact on whether the news was fake or real, you begin by using CountVectorizer and TfidfVectorizer.\n",
        "\n",
        "setting max threshhold  at .7 for the TF-IDF vectorizer tfidf_vectorizer using the max_df argument. This removes words which appear in more than 70% of the articles. Also, the built-in stop_words parameter will remove English stop words from the data before making vectors.\n"
      ]
    },
    {
      "metadata": {
        "id": "IYICsmKZ_nh3",
        "colab_type": "code",
        "outputId": "fa541aba-e455-47a0-c53c-e3b5889b8798",
        "colab": {
          "base_uri": "https://localhost:8080/",
          "height": 73
        }
      },
      "cell_type": "code",
      "source": [
        "count_vectorizer = CountVectorizer(max_features=200000,\n",
        "                                 min_df=0.1, stop_words='english',\n",
        "                                  ngram_range=(1,3),tokenizer=token_lemmatize,analyzer = 'word')\n",
        "count_train = count_vectorizer.fit_transform(X_train)\n",
        "count_test = count_vectorizer.transform(X_test)"
      ],
      "execution_count": 0,
      "outputs": [
        {
          "output_type": "stream",
          "text": [
            "/usr/local/lib/python3.6/dist-packages/sklearn/feature_extraction/text.py:300: UserWarning: Your stop_words may be inconsistent with your preprocessing. Tokenizing the stop words generated tokens ['le'] not in stop_words.\n",
            "  'stop_words.' % sorted(inconsistent))\n"
          ],
          "name": "stderr"
        }
      ]
    },
    {
      "metadata": {
        "id": "DTYlkt45_niK",
        "colab_type": "code",
        "outputId": "ddbd283e-3f68-41ca-dabe-73e5c54860f2",
        "colab": {
          "base_uri": "https://localhost:8080/",
          "height": 73
        }
      },
      "cell_type": "code",
      "source": [
        "tfidf_vectorizer = TfidfVectorizer(max_features=200000,\n",
        "                                  min_df=0.1,stop_words='english',\n",
        "                                 use_idf=True, ngram_range=(1,3),tokenizer=token_lemmatize,analyzer = 'word')\n",
        "tfidf_train = tfidf_vectorizer.fit_transform(X_train)\n",
        "tfidf_test = tfidf_vectorizer.transform(X_test)"
      ],
      "execution_count": 17,
      "outputs": [
        {
          "output_type": "stream",
          "text": [
            "/usr/local/lib/python3.6/dist-packages/sklearn/feature_extraction/text.py:300: UserWarning: Your stop_words may be inconsistent with your preprocessing. Tokenizing the stop words generated tokens ['le'] not in stop_words.\n",
            "  'stop_words.' % sorted(inconsistent))\n"
          ],
          "name": "stderr"
        }
      ]
    },
    {
      "metadata": {
        "scrolled": true,
        "id": "zY6ebbbj_njN",
        "colab_type": "code",
        "outputId": "4599b3bc-e1b7-4b4b-ac7e-4d0b9d2cb52e",
        "colab": {
          "base_uri": "https://localhost:8080/",
          "height": 197
        }
      },
      "cell_type": "code",
      "source": [
        "# first 10 features of count vectroizer\n",
        "count_vectorizer.get_feature_names()[:10]"
      ],
      "execution_count": 0,
      "outputs": [
        {
          "output_type": "execute_result",
          "data": {
            "text/plain": [
              "['able',\n",
              " 'according',\n",
              " 'act',\n",
              " 'action',\n",
              " 'actually',\n",
              " 'added',\n",
              " 'address',\n",
              " 'administration',\n",
              " 'agency',\n",
              " 'ago']"
            ]
          },
          "metadata": {
            "tags": []
          },
          "execution_count": 48
        }
      ]
    },
    {
      "metadata": {
        "id": "WcbqnXo__njZ",
        "colab_type": "code",
        "outputId": "8bc5f369-5235-4b61-8c2a-eb541b43e205",
        "colab": {
          "base_uri": "https://localhost:8080/",
          "height": 197
        }
      },
      "cell_type": "code",
      "source": [
        "# last 10 features of tfidf vectroizer\n",
        "tfidf_vectorizer.get_feature_names()[-10:]"
      ],
      "execution_count": 0,
      "outputs": [
        {
          "output_type": "execute_result",
          "data": {
            "text/plain": [
              "['woman',\n",
              " 'word',\n",
              " 'work',\n",
              " 'working',\n",
              " 'world',\n",
              " 'wrote',\n",
              " 'year',\n",
              " 'year ago',\n",
              " 'york',\n",
              " 'young']"
            ]
          },
          "metadata": {
            "tags": []
          },
          "execution_count": 49
        }
      ]
    },
    {
      "metadata": {
        "id": "04nIkSi3xvhY",
        "colab_type": "text"
      },
      "cell_type": "markdown",
      "source": [
        "**Count versus TF-IDF Features**"
      ]
    },
    {
      "metadata": {
        "id": "KjvZkDCL_njf",
        "colab_type": "code",
        "outputId": "b674e3fc-a2e2-40f0-e838-dbd41330d82c",
        "colab": {
          "base_uri": "https://localhost:8080/",
          "height": 35
        }
      },
      "cell_type": "code",
      "source": [
        "t=tfidf_vectorizer.get_feature_names()\n",
        "c=count_vectorizer.get_feature_names()\n",
        "set(t)==set(c)"
      ],
      "execution_count": 0,
      "outputs": [
        {
          "output_type": "execute_result",
          "data": {
            "text/plain": [
              "True"
            ]
          },
          "metadata": {
            "tags": []
          },
          "execution_count": 50
        }
      ]
    },
    {
      "metadata": {
        "scrolled": true,
        "id": "kthMGqoR_njo",
        "colab_type": "code",
        "outputId": "1617ea35-b572-40e3-d228-ed1f857ca50a",
        "colab": {
          "base_uri": "https://localhost:8080/",
          "height": 405
        }
      },
      "cell_type": "code",
      "source": [
        "count_df = pd.DataFrame(count_train.A, columns=count_vectorizer.get_feature_names())\n",
        "count_df.head(10)        "
      ],
      "execution_count": 0,
      "outputs": [
        {
          "output_type": "execute_result",
          "data": {
            "text/html": [
              "<div>\n",
              "<style scoped>\n",
              "    .dataframe tbody tr th:only-of-type {\n",
              "        vertical-align: middle;\n",
              "    }\n",
              "\n",
              "    .dataframe tbody tr th {\n",
              "        vertical-align: top;\n",
              "    }\n",
              "\n",
              "    .dataframe thead th {\n",
              "        text-align: right;\n",
              "    }\n",
              "</style>\n",
              "<table border=\"1\" class=\"dataframe\">\n",
              "  <thead>\n",
              "    <tr style=\"text-align: right;\">\n",
              "      <th></th>\n",
              "      <th>able</th>\n",
              "      <th>according</th>\n",
              "      <th>act</th>\n",
              "      <th>action</th>\n",
              "      <th>actually</th>\n",
              "      <th>added</th>\n",
              "      <th>address</th>\n",
              "      <th>administration</th>\n",
              "      <th>agency</th>\n",
              "      <th>ago</th>\n",
              "      <th>...</th>\n",
              "      <th>woman</th>\n",
              "      <th>word</th>\n",
              "      <th>work</th>\n",
              "      <th>working</th>\n",
              "      <th>world</th>\n",
              "      <th>wrote</th>\n",
              "      <th>year</th>\n",
              "      <th>year ago</th>\n",
              "      <th>york</th>\n",
              "      <th>young</th>\n",
              "    </tr>\n",
              "  </thead>\n",
              "  <tbody>\n",
              "    <tr>\n",
              "      <th>0</th>\n",
              "      <td>0</td>\n",
              "      <td>0</td>\n",
              "      <td>0</td>\n",
              "      <td>0</td>\n",
              "      <td>0</td>\n",
              "      <td>0</td>\n",
              "      <td>0</td>\n",
              "      <td>0</td>\n",
              "      <td>0</td>\n",
              "      <td>0</td>\n",
              "      <td>...</td>\n",
              "      <td>0</td>\n",
              "      <td>0</td>\n",
              "      <td>0</td>\n",
              "      <td>0</td>\n",
              "      <td>0</td>\n",
              "      <td>0</td>\n",
              "      <td>0</td>\n",
              "      <td>0</td>\n",
              "      <td>0</td>\n",
              "      <td>0</td>\n",
              "    </tr>\n",
              "    <tr>\n",
              "      <th>1</th>\n",
              "      <td>0</td>\n",
              "      <td>0</td>\n",
              "      <td>0</td>\n",
              "      <td>0</td>\n",
              "      <td>0</td>\n",
              "      <td>0</td>\n",
              "      <td>0</td>\n",
              "      <td>0</td>\n",
              "      <td>0</td>\n",
              "      <td>0</td>\n",
              "      <td>...</td>\n",
              "      <td>0</td>\n",
              "      <td>0</td>\n",
              "      <td>0</td>\n",
              "      <td>0</td>\n",
              "      <td>0</td>\n",
              "      <td>0</td>\n",
              "      <td>0</td>\n",
              "      <td>0</td>\n",
              "      <td>0</td>\n",
              "      <td>0</td>\n",
              "    </tr>\n",
              "    <tr>\n",
              "      <th>2</th>\n",
              "      <td>0</td>\n",
              "      <td>0</td>\n",
              "      <td>0</td>\n",
              "      <td>0</td>\n",
              "      <td>0</td>\n",
              "      <td>0</td>\n",
              "      <td>0</td>\n",
              "      <td>0</td>\n",
              "      <td>0</td>\n",
              "      <td>0</td>\n",
              "      <td>...</td>\n",
              "      <td>0</td>\n",
              "      <td>0</td>\n",
              "      <td>0</td>\n",
              "      <td>0</td>\n",
              "      <td>0</td>\n",
              "      <td>0</td>\n",
              "      <td>0</td>\n",
              "      <td>0</td>\n",
              "      <td>0</td>\n",
              "      <td>0</td>\n",
              "    </tr>\n",
              "    <tr>\n",
              "      <th>3</th>\n",
              "      <td>0</td>\n",
              "      <td>0</td>\n",
              "      <td>0</td>\n",
              "      <td>0</td>\n",
              "      <td>0</td>\n",
              "      <td>0</td>\n",
              "      <td>0</td>\n",
              "      <td>0</td>\n",
              "      <td>0</td>\n",
              "      <td>0</td>\n",
              "      <td>...</td>\n",
              "      <td>0</td>\n",
              "      <td>0</td>\n",
              "      <td>0</td>\n",
              "      <td>0</td>\n",
              "      <td>0</td>\n",
              "      <td>0</td>\n",
              "      <td>0</td>\n",
              "      <td>0</td>\n",
              "      <td>0</td>\n",
              "      <td>0</td>\n",
              "    </tr>\n",
              "    <tr>\n",
              "      <th>4</th>\n",
              "      <td>0</td>\n",
              "      <td>0</td>\n",
              "      <td>0</td>\n",
              "      <td>0</td>\n",
              "      <td>0</td>\n",
              "      <td>0</td>\n",
              "      <td>0</td>\n",
              "      <td>0</td>\n",
              "      <td>0</td>\n",
              "      <td>0</td>\n",
              "      <td>...</td>\n",
              "      <td>0</td>\n",
              "      <td>0</td>\n",
              "      <td>0</td>\n",
              "      <td>0</td>\n",
              "      <td>0</td>\n",
              "      <td>0</td>\n",
              "      <td>1</td>\n",
              "      <td>0</td>\n",
              "      <td>0</td>\n",
              "      <td>0</td>\n",
              "    </tr>\n",
              "    <tr>\n",
              "      <th>5</th>\n",
              "      <td>0</td>\n",
              "      <td>0</td>\n",
              "      <td>0</td>\n",
              "      <td>0</td>\n",
              "      <td>0</td>\n",
              "      <td>0</td>\n",
              "      <td>0</td>\n",
              "      <td>1</td>\n",
              "      <td>0</td>\n",
              "      <td>0</td>\n",
              "      <td>...</td>\n",
              "      <td>0</td>\n",
              "      <td>0</td>\n",
              "      <td>2</td>\n",
              "      <td>1</td>\n",
              "      <td>1</td>\n",
              "      <td>0</td>\n",
              "      <td>5</td>\n",
              "      <td>0</td>\n",
              "      <td>3</td>\n",
              "      <td>0</td>\n",
              "    </tr>\n",
              "    <tr>\n",
              "      <th>6</th>\n",
              "      <td>0</td>\n",
              "      <td>0</td>\n",
              "      <td>0</td>\n",
              "      <td>0</td>\n",
              "      <td>0</td>\n",
              "      <td>1</td>\n",
              "      <td>0</td>\n",
              "      <td>0</td>\n",
              "      <td>0</td>\n",
              "      <td>1</td>\n",
              "      <td>...</td>\n",
              "      <td>0</td>\n",
              "      <td>0</td>\n",
              "      <td>0</td>\n",
              "      <td>0</td>\n",
              "      <td>1</td>\n",
              "      <td>0</td>\n",
              "      <td>1</td>\n",
              "      <td>1</td>\n",
              "      <td>0</td>\n",
              "      <td>0</td>\n",
              "    </tr>\n",
              "    <tr>\n",
              "      <th>7</th>\n",
              "      <td>1</td>\n",
              "      <td>1</td>\n",
              "      <td>1</td>\n",
              "      <td>1</td>\n",
              "      <td>1</td>\n",
              "      <td>0</td>\n",
              "      <td>0</td>\n",
              "      <td>0</td>\n",
              "      <td>0</td>\n",
              "      <td>0</td>\n",
              "      <td>...</td>\n",
              "      <td>0</td>\n",
              "      <td>1</td>\n",
              "      <td>0</td>\n",
              "      <td>0</td>\n",
              "      <td>1</td>\n",
              "      <td>0</td>\n",
              "      <td>0</td>\n",
              "      <td>0</td>\n",
              "      <td>5</td>\n",
              "      <td>0</td>\n",
              "    </tr>\n",
              "    <tr>\n",
              "      <th>8</th>\n",
              "      <td>0</td>\n",
              "      <td>5</td>\n",
              "      <td>2</td>\n",
              "      <td>0</td>\n",
              "      <td>0</td>\n",
              "      <td>0</td>\n",
              "      <td>0</td>\n",
              "      <td>0</td>\n",
              "      <td>0</td>\n",
              "      <td>1</td>\n",
              "      <td>...</td>\n",
              "      <td>1</td>\n",
              "      <td>1</td>\n",
              "      <td>1</td>\n",
              "      <td>1</td>\n",
              "      <td>0</td>\n",
              "      <td>0</td>\n",
              "      <td>0</td>\n",
              "      <td>0</td>\n",
              "      <td>0</td>\n",
              "      <td>1</td>\n",
              "    </tr>\n",
              "    <tr>\n",
              "      <th>9</th>\n",
              "      <td>0</td>\n",
              "      <td>0</td>\n",
              "      <td>0</td>\n",
              "      <td>0</td>\n",
              "      <td>0</td>\n",
              "      <td>0</td>\n",
              "      <td>0</td>\n",
              "      <td>0</td>\n",
              "      <td>0</td>\n",
              "      <td>0</td>\n",
              "      <td>...</td>\n",
              "      <td>0</td>\n",
              "      <td>0</td>\n",
              "      <td>0</td>\n",
              "      <td>0</td>\n",
              "      <td>1</td>\n",
              "      <td>0</td>\n",
              "      <td>0</td>\n",
              "      <td>0</td>\n",
              "      <td>0</td>\n",
              "      <td>0</td>\n",
              "    </tr>\n",
              "  </tbody>\n",
              "</table>\n",
              "<p>10 rows × 403 columns</p>\n",
              "</div>"
            ],
            "text/plain": [
              "   able  according  act  action  actually  added  address  administration  \\\n",
              "0     0          0    0       0         0      0        0               0   \n",
              "1     0          0    0       0         0      0        0               0   \n",
              "2     0          0    0       0         0      0        0               0   \n",
              "3     0          0    0       0         0      0        0               0   \n",
              "4     0          0    0       0         0      0        0               0   \n",
              "5     0          0    0       0         0      0        0               1   \n",
              "6     0          0    0       0         0      1        0               0   \n",
              "7     1          1    1       1         1      0        0               0   \n",
              "8     0          5    2       0         0      0        0               0   \n",
              "9     0          0    0       0         0      0        0               0   \n",
              "\n",
              "   agency  ago  ...    woman  word  work  working  world  wrote  year  \\\n",
              "0       0    0  ...        0     0     0        0      0      0     0   \n",
              "1       0    0  ...        0     0     0        0      0      0     0   \n",
              "2       0    0  ...        0     0     0        0      0      0     0   \n",
              "3       0    0  ...        0     0     0        0      0      0     0   \n",
              "4       0    0  ...        0     0     0        0      0      0     1   \n",
              "5       0    0  ...        0     0     2        1      1      0     5   \n",
              "6       0    1  ...        0     0     0        0      1      0     1   \n",
              "7       0    0  ...        0     1     0        0      1      0     0   \n",
              "8       0    1  ...        1     1     1        1      0      0     0   \n",
              "9       0    0  ...        0     0     0        0      1      0     0   \n",
              "\n",
              "   year ago  york  young  \n",
              "0         0     0      0  \n",
              "1         0     0      0  \n",
              "2         0     0      0  \n",
              "3         0     0      0  \n",
              "4         0     0      0  \n",
              "5         0     3      0  \n",
              "6         1     0      0  \n",
              "7         0     5      0  \n",
              "8         0     0      1  \n",
              "9         0     0      0  \n",
              "\n",
              "[10 rows x 403 columns]"
            ]
          },
          "metadata": {
            "tags": []
          },
          "execution_count": 51
        }
      ]
    },
    {
      "metadata": {
        "id": "tHRMdSt-_nj1",
        "colab_type": "code",
        "outputId": "c282ccf6-d9b0-450f-e5a3-da81e45607ac",
        "colab": {
          "base_uri": "https://localhost:8080/",
          "height": 425
        }
      },
      "cell_type": "code",
      "source": [
        "tfidf_df = pd.DataFrame(tfidf_train.A, columns=tfidf_vectorizer.get_feature_names())\n",
        "tfidf_df.head(10)"
      ],
      "execution_count": 18,
      "outputs": [
        {
          "output_type": "execute_result",
          "data": {
            "text/html": [
              "<div>\n",
              "<style scoped>\n",
              "    .dataframe tbody tr th:only-of-type {\n",
              "        vertical-align: middle;\n",
              "    }\n",
              "\n",
              "    .dataframe tbody tr th {\n",
              "        vertical-align: top;\n",
              "    }\n",
              "\n",
              "    .dataframe thead th {\n",
              "        text-align: right;\n",
              "    }\n",
              "</style>\n",
              "<table border=\"1\" class=\"dataframe\">\n",
              "  <thead>\n",
              "    <tr style=\"text-align: right;\">\n",
              "      <th></th>\n",
              "      <th>able</th>\n",
              "      <th>according</th>\n",
              "      <th>act</th>\n",
              "      <th>action</th>\n",
              "      <th>actually</th>\n",
              "      <th>added</th>\n",
              "      <th>address</th>\n",
              "      <th>administration</th>\n",
              "      <th>agency</th>\n",
              "      <th>ago</th>\n",
              "      <th>...</th>\n",
              "      <th>woman</th>\n",
              "      <th>word</th>\n",
              "      <th>work</th>\n",
              "      <th>working</th>\n",
              "      <th>world</th>\n",
              "      <th>wrote</th>\n",
              "      <th>year</th>\n",
              "      <th>year ago</th>\n",
              "      <th>york</th>\n",
              "      <th>young</th>\n",
              "    </tr>\n",
              "  </thead>\n",
              "  <tbody>\n",
              "    <tr>\n",
              "      <th>0</th>\n",
              "      <td>0.000000</td>\n",
              "      <td>0.000000</td>\n",
              "      <td>0.000000</td>\n",
              "      <td>0.000000</td>\n",
              "      <td>0.000000</td>\n",
              "      <td>0.000000</td>\n",
              "      <td>0.0</td>\n",
              "      <td>0.000000</td>\n",
              "      <td>0.0</td>\n",
              "      <td>0.000000</td>\n",
              "      <td>...</td>\n",
              "      <td>0.00000</td>\n",
              "      <td>0.000000</td>\n",
              "      <td>0.000000</td>\n",
              "      <td>0.000000</td>\n",
              "      <td>0.000000</td>\n",
              "      <td>0.0</td>\n",
              "      <td>0.000000</td>\n",
              "      <td>0.000000</td>\n",
              "      <td>0.000000</td>\n",
              "      <td>0.000000</td>\n",
              "    </tr>\n",
              "    <tr>\n",
              "      <th>1</th>\n",
              "      <td>0.000000</td>\n",
              "      <td>0.000000</td>\n",
              "      <td>0.000000</td>\n",
              "      <td>0.000000</td>\n",
              "      <td>0.000000</td>\n",
              "      <td>0.000000</td>\n",
              "      <td>0.0</td>\n",
              "      <td>0.000000</td>\n",
              "      <td>0.0</td>\n",
              "      <td>0.000000</td>\n",
              "      <td>...</td>\n",
              "      <td>0.00000</td>\n",
              "      <td>0.000000</td>\n",
              "      <td>0.000000</td>\n",
              "      <td>0.000000</td>\n",
              "      <td>0.000000</td>\n",
              "      <td>0.0</td>\n",
              "      <td>0.000000</td>\n",
              "      <td>0.000000</td>\n",
              "      <td>0.000000</td>\n",
              "      <td>0.000000</td>\n",
              "    </tr>\n",
              "    <tr>\n",
              "      <th>2</th>\n",
              "      <td>0.000000</td>\n",
              "      <td>0.000000</td>\n",
              "      <td>0.000000</td>\n",
              "      <td>0.000000</td>\n",
              "      <td>0.000000</td>\n",
              "      <td>0.000000</td>\n",
              "      <td>0.0</td>\n",
              "      <td>0.000000</td>\n",
              "      <td>0.0</td>\n",
              "      <td>0.000000</td>\n",
              "      <td>...</td>\n",
              "      <td>0.00000</td>\n",
              "      <td>0.000000</td>\n",
              "      <td>0.000000</td>\n",
              "      <td>0.000000</td>\n",
              "      <td>0.000000</td>\n",
              "      <td>0.0</td>\n",
              "      <td>0.000000</td>\n",
              "      <td>0.000000</td>\n",
              "      <td>0.000000</td>\n",
              "      <td>0.000000</td>\n",
              "    </tr>\n",
              "    <tr>\n",
              "      <th>3</th>\n",
              "      <td>0.000000</td>\n",
              "      <td>0.000000</td>\n",
              "      <td>0.000000</td>\n",
              "      <td>0.000000</td>\n",
              "      <td>0.000000</td>\n",
              "      <td>0.000000</td>\n",
              "      <td>0.0</td>\n",
              "      <td>0.000000</td>\n",
              "      <td>0.0</td>\n",
              "      <td>0.000000</td>\n",
              "      <td>...</td>\n",
              "      <td>0.00000</td>\n",
              "      <td>0.000000</td>\n",
              "      <td>0.000000</td>\n",
              "      <td>0.000000</td>\n",
              "      <td>0.000000</td>\n",
              "      <td>0.0</td>\n",
              "      <td>0.000000</td>\n",
              "      <td>0.000000</td>\n",
              "      <td>0.000000</td>\n",
              "      <td>0.000000</td>\n",
              "    </tr>\n",
              "    <tr>\n",
              "      <th>4</th>\n",
              "      <td>0.000000</td>\n",
              "      <td>0.000000</td>\n",
              "      <td>0.000000</td>\n",
              "      <td>0.000000</td>\n",
              "      <td>0.000000</td>\n",
              "      <td>0.000000</td>\n",
              "      <td>0.0</td>\n",
              "      <td>0.000000</td>\n",
              "      <td>0.0</td>\n",
              "      <td>0.000000</td>\n",
              "      <td>...</td>\n",
              "      <td>0.00000</td>\n",
              "      <td>0.000000</td>\n",
              "      <td>0.000000</td>\n",
              "      <td>0.000000</td>\n",
              "      <td>0.000000</td>\n",
              "      <td>0.0</td>\n",
              "      <td>0.092693</td>\n",
              "      <td>0.000000</td>\n",
              "      <td>0.000000</td>\n",
              "      <td>0.000000</td>\n",
              "    </tr>\n",
              "    <tr>\n",
              "      <th>5</th>\n",
              "      <td>0.000000</td>\n",
              "      <td>0.000000</td>\n",
              "      <td>0.000000</td>\n",
              "      <td>0.000000</td>\n",
              "      <td>0.000000</td>\n",
              "      <td>0.000000</td>\n",
              "      <td>0.0</td>\n",
              "      <td>0.020893</td>\n",
              "      <td>0.0</td>\n",
              "      <td>0.000000</td>\n",
              "      <td>...</td>\n",
              "      <td>0.00000</td>\n",
              "      <td>0.000000</td>\n",
              "      <td>0.034181</td>\n",
              "      <td>0.021097</td>\n",
              "      <td>0.016492</td>\n",
              "      <td>0.0</td>\n",
              "      <td>0.061875</td>\n",
              "      <td>0.000000</td>\n",
              "      <td>0.059411</td>\n",
              "      <td>0.000000</td>\n",
              "    </tr>\n",
              "    <tr>\n",
              "      <th>6</th>\n",
              "      <td>0.000000</td>\n",
              "      <td>0.000000</td>\n",
              "      <td>0.000000</td>\n",
              "      <td>0.000000</td>\n",
              "      <td>0.000000</td>\n",
              "      <td>0.120009</td>\n",
              "      <td>0.0</td>\n",
              "      <td>0.000000</td>\n",
              "      <td>0.0</td>\n",
              "      <td>0.114079</td>\n",
              "      <td>...</td>\n",
              "      <td>0.00000</td>\n",
              "      <td>0.000000</td>\n",
              "      <td>0.000000</td>\n",
              "      <td>0.000000</td>\n",
              "      <td>0.092749</td>\n",
              "      <td>0.0</td>\n",
              "      <td>0.069595</td>\n",
              "      <td>0.136369</td>\n",
              "      <td>0.000000</td>\n",
              "      <td>0.000000</td>\n",
              "    </tr>\n",
              "    <tr>\n",
              "      <th>7</th>\n",
              "      <td>0.034265</td>\n",
              "      <td>0.026770</td>\n",
              "      <td>0.033043</td>\n",
              "      <td>0.032862</td>\n",
              "      <td>0.032366</td>\n",
              "      <td>0.000000</td>\n",
              "      <td>0.0</td>\n",
              "      <td>0.000000</td>\n",
              "      <td>0.0</td>\n",
              "      <td>0.000000</td>\n",
              "      <td>...</td>\n",
              "      <td>0.00000</td>\n",
              "      <td>0.033413</td>\n",
              "      <td>0.000000</td>\n",
              "      <td>0.000000</td>\n",
              "      <td>0.026188</td>\n",
              "      <td>0.0</td>\n",
              "      <td>0.000000</td>\n",
              "      <td>0.000000</td>\n",
              "      <td>0.157233</td>\n",
              "      <td>0.000000</td>\n",
              "    </tr>\n",
              "    <tr>\n",
              "      <th>8</th>\n",
              "      <td>0.000000</td>\n",
              "      <td>0.130601</td>\n",
              "      <td>0.064481</td>\n",
              "      <td>0.000000</td>\n",
              "      <td>0.000000</td>\n",
              "      <td>0.000000</td>\n",
              "      <td>0.0</td>\n",
              "      <td>0.000000</td>\n",
              "      <td>0.0</td>\n",
              "      <td>0.031428</td>\n",
              "      <td>...</td>\n",
              "      <td>0.02993</td>\n",
              "      <td>0.032602</td>\n",
              "      <td>0.026479</td>\n",
              "      <td>0.032686</td>\n",
              "      <td>0.000000</td>\n",
              "      <td>0.0</td>\n",
              "      <td>0.000000</td>\n",
              "      <td>0.000000</td>\n",
              "      <td>0.000000</td>\n",
              "      <td>0.037518</td>\n",
              "    </tr>\n",
              "    <tr>\n",
              "      <th>9</th>\n",
              "      <td>0.000000</td>\n",
              "      <td>0.000000</td>\n",
              "      <td>0.000000</td>\n",
              "      <td>0.000000</td>\n",
              "      <td>0.000000</td>\n",
              "      <td>0.000000</td>\n",
              "      <td>0.0</td>\n",
              "      <td>0.000000</td>\n",
              "      <td>0.0</td>\n",
              "      <td>0.000000</td>\n",
              "      <td>...</td>\n",
              "      <td>0.00000</td>\n",
              "      <td>0.000000</td>\n",
              "      <td>0.000000</td>\n",
              "      <td>0.000000</td>\n",
              "      <td>0.072401</td>\n",
              "      <td>0.0</td>\n",
              "      <td>0.000000</td>\n",
              "      <td>0.000000</td>\n",
              "      <td>0.000000</td>\n",
              "      <td>0.000000</td>\n",
              "    </tr>\n",
              "  </tbody>\n",
              "</table>\n",
              "<p>10 rows × 403 columns</p>\n",
              "</div>"
            ],
            "text/plain": [
              "       able  according       act    action  actually     added  address  \\\n",
              "0  0.000000   0.000000  0.000000  0.000000  0.000000  0.000000      0.0   \n",
              "1  0.000000   0.000000  0.000000  0.000000  0.000000  0.000000      0.0   \n",
              "2  0.000000   0.000000  0.000000  0.000000  0.000000  0.000000      0.0   \n",
              "3  0.000000   0.000000  0.000000  0.000000  0.000000  0.000000      0.0   \n",
              "4  0.000000   0.000000  0.000000  0.000000  0.000000  0.000000      0.0   \n",
              "5  0.000000   0.000000  0.000000  0.000000  0.000000  0.000000      0.0   \n",
              "6  0.000000   0.000000  0.000000  0.000000  0.000000  0.120009      0.0   \n",
              "7  0.034265   0.026770  0.033043  0.032862  0.032366  0.000000      0.0   \n",
              "8  0.000000   0.130601  0.064481  0.000000  0.000000  0.000000      0.0   \n",
              "9  0.000000   0.000000  0.000000  0.000000  0.000000  0.000000      0.0   \n",
              "\n",
              "   administration  agency       ago    ...       woman      word      work  \\\n",
              "0        0.000000     0.0  0.000000    ...     0.00000  0.000000  0.000000   \n",
              "1        0.000000     0.0  0.000000    ...     0.00000  0.000000  0.000000   \n",
              "2        0.000000     0.0  0.000000    ...     0.00000  0.000000  0.000000   \n",
              "3        0.000000     0.0  0.000000    ...     0.00000  0.000000  0.000000   \n",
              "4        0.000000     0.0  0.000000    ...     0.00000  0.000000  0.000000   \n",
              "5        0.020893     0.0  0.000000    ...     0.00000  0.000000  0.034181   \n",
              "6        0.000000     0.0  0.114079    ...     0.00000  0.000000  0.000000   \n",
              "7        0.000000     0.0  0.000000    ...     0.00000  0.033413  0.000000   \n",
              "8        0.000000     0.0  0.031428    ...     0.02993  0.032602  0.026479   \n",
              "9        0.000000     0.0  0.000000    ...     0.00000  0.000000  0.000000   \n",
              "\n",
              "    working     world  wrote      year  year ago      york     young  \n",
              "0  0.000000  0.000000    0.0  0.000000  0.000000  0.000000  0.000000  \n",
              "1  0.000000  0.000000    0.0  0.000000  0.000000  0.000000  0.000000  \n",
              "2  0.000000  0.000000    0.0  0.000000  0.000000  0.000000  0.000000  \n",
              "3  0.000000  0.000000    0.0  0.000000  0.000000  0.000000  0.000000  \n",
              "4  0.000000  0.000000    0.0  0.092693  0.000000  0.000000  0.000000  \n",
              "5  0.021097  0.016492    0.0  0.061875  0.000000  0.059411  0.000000  \n",
              "6  0.000000  0.092749    0.0  0.069595  0.136369  0.000000  0.000000  \n",
              "7  0.000000  0.026188    0.0  0.000000  0.000000  0.157233  0.000000  \n",
              "8  0.032686  0.000000    0.0  0.000000  0.000000  0.000000  0.037518  \n",
              "9  0.000000  0.072401    0.0  0.000000  0.000000  0.000000  0.000000  \n",
              "\n",
              "[10 rows x 403 columns]"
            ]
          },
          "metadata": {
            "tags": []
          },
          "execution_count": 18
        }
      ]
    },
    {
      "metadata": {
        "id": "rDJGK0m6_nj5",
        "colab_type": "code",
        "colab": {}
      },
      "cell_type": "code",
      "source": [
        "difference = set(count_df.columns) - set(tfidf_df.columns)"
      ],
      "execution_count": 0,
      "outputs": []
    },
    {
      "metadata": {
        "id": "TbBTTBkK_nkA",
        "colab_type": "code",
        "outputId": "8caeec3f-b11a-4087-9d63-f7dc12499819",
        "colab": {
          "base_uri": "https://localhost:8080/",
          "height": 35
        }
      },
      "cell_type": "code",
      "source": [
        "print(count_df.equals(tfidf_df))"
      ],
      "execution_count": 0,
      "outputs": [
        {
          "output_type": "stream",
          "text": [
            "False\n"
          ],
          "name": "stdout"
        }
      ]
    },
    {
      "metadata": {
        "id": "zgtbVu6y_nk4",
        "colab_type": "text"
      },
      "cell_type": "markdown",
      "source": [
        "# NB Model"
      ]
    },
    {
      "metadata": {
        "id": "M04wQgzD_nk5",
        "colab_type": "text"
      },
      "cell_type": "markdown",
      "source": [
        "For tf-idf vectorize"
      ]
    },
    {
      "metadata": {
        "id": "qvOk6XlV_nk6",
        "colab_type": "code",
        "colab": {}
      },
      "cell_type": "code",
      "source": [
        "clf = MultinomialNB() "
      ],
      "execution_count": 0,
      "outputs": []
    },
    {
      "metadata": {
        "id": "pWUqgyJ3_nk9",
        "colab_type": "code",
        "outputId": "3f18d116-fa4c-4a16-d3b4-2fadd47d9443",
        "colab": {
          "base_uri": "https://localhost:8080/",
          "height": 71
        }
      },
      "cell_type": "code",
      "source": [
        "clf.fit(tfidf_train, y_train)\n",
        "pred_nb = clf.predict(tfidf_test)\n",
        "score = metrics.accuracy_score(y_test, pred_nb)\n",
        "print(\"accuracy:   %0.3f\" % score)\n",
        "cm = metrics.confusion_matrix(y_test, pred_nb)\n",
        "print(cm)"
      ],
      "execution_count": 0,
      "outputs": [
        {
          "output_type": "stream",
          "text": [
            "accuracy:   0.820\n",
            "[[869 139]\n",
            " [237 846]]\n"
          ],
          "name": "stdout"
        }
      ]
    },
    {
      "metadata": {
        "id": "x3BM2GKk_nlF",
        "colab_type": "code",
        "outputId": "423305a1-737d-47e3-de54-9e22dc644db2",
        "colab": {
          "base_uri": "https://localhost:8080/",
          "height": 179
        }
      },
      "cell_type": "code",
      "source": [
        "from sklearn.metrics import classification_report\n",
        "print(classification_report(y_test, pred_nb))"
      ],
      "execution_count": 0,
      "outputs": [
        {
          "output_type": "stream",
          "text": [
            "              precision    recall  f1-score   support\n",
            "\n",
            "        FAKE       0.79      0.86      0.82      1008\n",
            "        REAL       0.86      0.78      0.82      1083\n",
            "\n",
            "   micro avg       0.82      0.82      0.82      2091\n",
            "   macro avg       0.82      0.82      0.82      2091\n",
            "weighted avg       0.82      0.82      0.82      2091\n",
            "\n"
          ],
          "name": "stdout"
        }
      ]
    },
    {
      "metadata": {
        "id": "yQ7n94-ZZ_XD",
        "colab_type": "code",
        "colab": {}
      },
      "cell_type": "code",
      "source": [
        "! pip install scikit-plot"
      ],
      "execution_count": 0,
      "outputs": []
    },
    {
      "metadata": {
        "id": "zM1cmVIz9KBQ",
        "colab_type": "code",
        "outputId": "354e785b-f6cf-4f17-f075-af5364ca4f64",
        "colab": {
          "base_uri": "https://localhost:8080/",
          "height": 400
        }
      },
      "cell_type": "code",
      "source": [
        "import scikitplot as skplt\n",
        "skplt.metrics.plot_confusion_matrix(y_test, pred_nb, normalize=True)"
      ],
      "execution_count": 0,
      "outputs": [
        {
          "output_type": "execute_result",
          "data": {
            "text/plain": [
              "<matplotlib.axes._subplots.AxesSubplot at 0x7f07c9287470>"
            ]
          },
          "metadata": {
            "tags": []
          },
          "execution_count": 59
        },
        {
          "output_type": "display_data",
          "data": {
            "image/png": "[encoded data removed]",
            "text/plain": [
              "<Figure size 576x396 with 2 Axes>"
            ]
          },
          "metadata": {
            "tags": []
          }
        }
      ]
    },
    {
      "metadata": {
        "id": "P7w9JpN0_nlP",
        "colab_type": "code",
        "outputId": "63235d0d-e3cc-4e88-d2de-ba9bf35fd60a",
        "colab": {
          "base_uri": "https://localhost:8080/",
          "height": 233
        }
      },
      "cell_type": "code",
      "source": [
        "# Hyperparameter tunning of NB classifier model using GridSearchCV\n",
        "from sklearn.model_selection import GridSearchCV\n",
        "param_grid={'alpha':np.arange(0,1,0.1)}\n",
        "nb=GridSearchCV(clf,param_grid,cv=5)\n",
        "nb.fit(tfidf_train, y_train)\n",
        "print('best aplha value',nb.best_params_)\n",
        "print('Best score',nb.best_score_)"
      ],
      "execution_count": 0,
      "outputs": [
        {
          "output_type": "stream",
          "text": [
            "/usr/local/lib/python3.6/dist-packages/sklearn/naive_bayes.py:480: UserWarning: alpha too small will result in numeric errors, setting alpha = 1.0e-10\n",
            "  'setting alpha = %.1e' % _ALPHA_MIN)\n",
            "/usr/local/lib/python3.6/dist-packages/sklearn/naive_bayes.py:480: UserWarning: alpha too small will result in numeric errors, setting alpha = 1.0e-10\n",
            "  'setting alpha = %.1e' % _ALPHA_MIN)\n",
            "/usr/local/lib/python3.6/dist-packages/sklearn/naive_bayes.py:480: UserWarning: alpha too small will result in numeric errors, setting alpha = 1.0e-10\n",
            "  'setting alpha = %.1e' % _ALPHA_MIN)\n",
            "/usr/local/lib/python3.6/dist-packages/sklearn/naive_bayes.py:480: UserWarning: alpha too small will result in numeric errors, setting alpha = 1.0e-10\n",
            "  'setting alpha = %.1e' % _ALPHA_MIN)\n",
            "/usr/local/lib/python3.6/dist-packages/sklearn/naive_bayes.py:480: UserWarning: alpha too small will result in numeric errors, setting alpha = 1.0e-10\n",
            "  'setting alpha = %.1e' % _ALPHA_MIN)\n"
          ],
          "name": "stderr"
        },
        {
          "output_type": "stream",
          "text": [
            "best aplha value {'alpha': 0.1}\n",
            "Best score 0.8336475023562677\n"
          ],
          "name": "stdout"
        }
      ]
    },
    {
      "metadata": {
        "id": "uoDGyG8M_nlT",
        "colab_type": "text"
      },
      "cell_type": "markdown",
      "source": [
        "For Count vectorizer"
      ]
    },
    {
      "metadata": {
        "id": "bGAGAs8z_nlU",
        "colab_type": "code",
        "colab": {}
      },
      "cell_type": "code",
      "source": [
        "clf_c = MultinomialNB() "
      ],
      "execution_count": 0,
      "outputs": []
    },
    {
      "metadata": {
        "id": "kvqMXvDd_nlY",
        "colab_type": "code",
        "outputId": "773e66cf-53d3-419b-d9ab-bec19c18479c",
        "colab": {
          "base_uri": "https://localhost:8080/",
          "height": 35
        }
      },
      "cell_type": "code",
      "source": [
        "clf_c.fit(count_train, y_train)\n",
        "pred_nb_c = clf_c.predict(count_test)\n",
        "score = metrics.accuracy_score(y_test, pred_nb_c)\n",
        "print(\"accuracy:   %0.3f\" % score)\n",
        "cm_count = metrics.confusion_matrix(y_test, pred_nb_c)"
      ],
      "execution_count": 0,
      "outputs": [
        {
          "output_type": "stream",
          "text": [
            "accuracy:   0.813\n"
          ],
          "name": "stdout"
        }
      ]
    },
    {
      "metadata": {
        "id": "FMZcJLe-fi2o",
        "colab_type": "code",
        "outputId": "65c44486-21d1-4acb-bc7b-a1db0e7e1506",
        "colab": {
          "base_uri": "https://localhost:8080/",
          "height": 400
        }
      },
      "cell_type": "code",
      "source": [
        "skplt.metrics.plot_confusion_matrix(y_test, pred_nb_c, normalize=True)"
      ],
      "execution_count": 0,
      "outputs": [
        {
          "output_type": "execute_result",
          "data": {
            "text/plain": [
              "<matplotlib.axes._subplots.AxesSubplot at 0x7f07ccc4ccc0>"
            ]
          },
          "metadata": {
            "tags": []
          },
          "execution_count": 63
        },
        {
          "output_type": "display_data",
          "data": {
            "image/png": "[encoded data removed]",
            "text/plain": [
              "<Figure size 576x396 with 2 Axes>"
            ]
          },
          "metadata": {
            "tags": []
          }
        }
      ]
    },
    {
      "metadata": {
        "id": "dM_XkKBS_nli",
        "colab_type": "text"
      },
      "cell_type": "markdown",
      "source": [
        "# SVM model"
      ]
    },
    {
      "metadata": {
        "id": "kxp-1zRkQWvG",
        "colab_type": "text"
      },
      "cell_type": "markdown",
      "source": [
        "tfidf vectorizer"
      ]
    },
    {
      "metadata": {
        "id": "Es0Si0Hv_nlj",
        "colab_type": "code",
        "outputId": "c109d48c-77f2-45ff-d79c-f0be680c9451",
        "colab": {
          "base_uri": "https://localhost:8080/",
          "height": 35
        }
      },
      "cell_type": "code",
      "source": [
        "from sklearn.svm import  LinearSVC\n",
        "svc_tfidf_clf = LinearSVC()\n",
        "svc_tfidf_clf.fit(tfidf_train, y_train)\n",
        "pred_svm = svc_tfidf_clf.predict(tfidf_test)\n",
        "score = metrics.accuracy_score(y_test, pred_svm)\n",
        "print(\"accuracy:   %0.3f\" % score)                                                "
      ],
      "execution_count": 0,
      "outputs": [
        {
          "output_type": "stream",
          "text": [
            "accuracy:   0.855\n"
          ],
          "name": "stdout"
        }
      ]
    },
    {
      "metadata": {
        "id": "1mA7qTF4qmhs",
        "colab_type": "code",
        "outputId": "ae0efb88-3d92-4005-ebf2-e1591381c552",
        "colab": {
          "base_uri": "https://localhost:8080/",
          "height": 53
        }
      },
      "cell_type": "code",
      "source": [
        "cm= metrics.confusion_matrix(y_test, pred_svm)\n",
        "cm"
      ],
      "execution_count": 0,
      "outputs": [
        {
          "output_type": "execute_result",
          "data": {
            "text/plain": [
              "array([[870, 138],\n",
              "       [166, 917]])"
            ]
          },
          "metadata": {
            "tags": []
          },
          "execution_count": 65
        }
      ]
    },
    {
      "metadata": {
        "id": "gRT-GRby_j8E",
        "colab_type": "code",
        "outputId": "aab675c4-934e-4019-de4f-7e96368c7228",
        "colab": {
          "base_uri": "https://localhost:8080/",
          "height": 179
        }
      },
      "cell_type": "code",
      "source": [
        "from sklearn.metrics import classification_report\n",
        "print(classification_report(y_test, pred_svm))"
      ],
      "execution_count": 0,
      "outputs": [
        {
          "output_type": "stream",
          "text": [
            "              precision    recall  f1-score   support\n",
            "\n",
            "        FAKE       0.84      0.86      0.85      1008\n",
            "        REAL       0.87      0.85      0.86      1083\n",
            "\n",
            "   micro avg       0.85      0.85      0.85      2091\n",
            "   macro avg       0.85      0.85      0.85      2091\n",
            "weighted avg       0.86      0.85      0.85      2091\n",
            "\n"
          ],
          "name": "stdout"
        }
      ]
    },
    {
      "metadata": {
        "id": "JW6R4aJfQfIM",
        "colab_type": "text"
      },
      "cell_type": "markdown",
      "source": [
        "count vectorizer"
      ]
    },
    {
      "metadata": {
        "id": "c25YVRChQiJe",
        "colab_type": "code",
        "outputId": "4403cbcd-b5a6-4d7a-944d-a6baec48c2b8",
        "colab": {
          "base_uri": "https://localhost:8080/",
          "height": 71
        }
      },
      "cell_type": "code",
      "source": [
        "svc_count_clf = LinearSVC()\n",
        "svc_count_clf.fit(count_train, y_train)\n",
        "pred_svm_c = svc_count_clf.predict(count_test)\n",
        "score = metrics.accuracy_score(y_test, pred_svm_c)\n",
        "print(\"accuracy:   %0.3f\" % score)"
      ],
      "execution_count": 0,
      "outputs": [
        {
          "output_type": "stream",
          "text": [
            "accuracy:   0.831\n"
          ],
          "name": "stdout"
        },
        {
          "output_type": "stream",
          "text": [
            "/usr/local/lib/python3.6/dist-packages/sklearn/svm/base.py:931: ConvergenceWarning: Liblinear failed to converge, increase the number of iterations.\n",
            "  \"the number of iterations.\", ConvergenceWarning)\n"
          ],
          "name": "stderr"
        }
      ]
    },
    {
      "metadata": {
        "id": "o3zvy7RdQhiG",
        "colab_type": "code",
        "outputId": "5678ca57-5d9a-4029-dbba-2b8f60e156d3",
        "colab": {
          "base_uri": "https://localhost:8080/",
          "height": 53
        }
      },
      "cell_type": "code",
      "source": [
        "cm= metrics.confusion_matrix(y_test, pred_svm_c)\n",
        "cm"
      ],
      "execution_count": 0,
      "outputs": [
        {
          "output_type": "execute_result",
          "data": {
            "text/plain": [
              "array([[886, 122],\n",
              "       [231, 852]])"
            ]
          },
          "metadata": {
            "tags": []
          },
          "execution_count": 68
        }
      ]
    },
    {
      "metadata": {
        "id": "xI5fJhMvQhcg",
        "colab_type": "code",
        "outputId": "8bfa8c8a-a272-42ba-e6f8-221a46cfa456",
        "colab": {
          "base_uri": "https://localhost:8080/",
          "height": 179
        }
      },
      "cell_type": "code",
      "source": [
        "print(classification_report(y_test, pred_svm_c))"
      ],
      "execution_count": 0,
      "outputs": [
        {
          "output_type": "stream",
          "text": [
            "              precision    recall  f1-score   support\n",
            "\n",
            "        FAKE       0.79      0.88      0.83      1008\n",
            "        REAL       0.87      0.79      0.83      1083\n",
            "\n",
            "   micro avg       0.83      0.83      0.83      2091\n",
            "   macro avg       0.83      0.83      0.83      2091\n",
            "weighted avg       0.84      0.83      0.83      2091\n",
            "\n"
          ],
          "name": "stdout"
        }
      ]
    },
    {
      "metadata": {
        "id": "9Q6UMcR2wJDh",
        "colab_type": "text"
      },
      "cell_type": "markdown",
      "source": [
        "Till now SVM model has performed better than NB Classifier with Tfidf vectorizer than count vectorizer resulting in improved f1-score"
      ]
    },
    {
      "metadata": {
        "scrolled": true,
        "id": "Ea0LmZQa_nln",
        "colab_type": "code",
        "outputId": "5fba8682-73c2-4baa-b585-8e4074c056d1",
        "colab": {
          "base_uri": "https://localhost:8080/",
          "height": 7957
        }
      },
      "cell_type": "code",
      "source": [
        "from sklearn.svm import SVC\n",
        "model = SVC()\n",
        "param_grid = {'C':np.logspace(-3, 2, 6),'gamma':np.logspace(-3, 2, 6), 'kernel':['linear','rbf']} \n",
        "grid = GridSearchCV(SVC(),param_grid,refit = True, verbose=2)          \n",
        "grid.fit(tfidf_train, y_train)\n",
        "print('best parameter',nb.best_params_)\n",
        "print('Best score',nb.best_score_)"
      ],
      "execution_count": 0,
      "outputs": [
        {
          "output_type": "stream",
          "text": [
            "/usr/local/lib/python3.6/dist-packages/sklearn/model_selection/_split.py:2053: FutureWarning: You should specify a value for 'cv' instead of relying on the default value. The default value will change from 3 to 5 in version 0.22.\n",
            "  warnings.warn(CV_WARNING, FutureWarning)\n",
            "[Parallel(n_jobs=1)]: Using backend SequentialBackend with 1 concurrent workers.\n"
          ],
          "name": "stderr"
        },
        {
          "output_type": "stream",
          "text": [
            "Fitting 3 folds for each of 72 candidates, totalling 216 fits\n",
            "[CV] C=0.001, gamma=0.001, kernel=linear .............................\n",
            "[CV] .............. C=0.001, gamma=0.001, kernel=linear, total=   8.5s\n",
            "[CV] C=0.001, gamma=0.001, kernel=linear .............................\n"
          ],
          "name": "stdout"
        },
        {
          "output_type": "stream",
          "text": [
            "[Parallel(n_jobs=1)]: Done   1 out of   1 | elapsed:   14.3s remaining:    0.0s\n"
          ],
          "name": "stderr"
        },
        {
          "output_type": "stream",
          "text": [
            "[CV] .............. C=0.001, gamma=0.001, kernel=linear, total=   9.1s\n",
            "[CV] C=0.001, gamma=0.001, kernel=linear .............................\n",
            "[CV] .............. C=0.001, gamma=0.001, kernel=linear, total=   8.6s\n",
            "[CV] C=0.001, gamma=0.001, kernel=rbf ................................\n",
            "[CV] ................. C=0.001, gamma=0.001, kernel=rbf, total=   8.8s\n",
            "[CV] C=0.001, gamma=0.001, kernel=rbf ................................\n",
            "[CV] ................. C=0.001, gamma=0.001, kernel=rbf, total=   8.8s\n",
            "[CV] C=0.001, gamma=0.001, kernel=rbf ................................\n",
            "[CV] ................. C=0.001, gamma=0.001, kernel=rbf, total=   8.7s\n",
            "[CV] C=0.001, gamma=0.01, kernel=linear ..............................\n",
            "[CV] ............... C=0.001, gamma=0.01, kernel=linear, total=   8.6s\n",
            "[CV] C=0.001, gamma=0.01, kernel=linear ..............................\n",
            "[CV] ............... C=0.001, gamma=0.01, kernel=linear, total=   8.6s\n",
            "[CV] C=0.001, gamma=0.01, kernel=linear ..............................\n",
            "[CV] ............... C=0.001, gamma=0.01, kernel=linear, total=   9.0s\n",
            "[CV] C=0.001, gamma=0.01, kernel=rbf .................................\n",
            "[CV] .................. C=0.001, gamma=0.01, kernel=rbf, total=   9.8s\n",
            "[CV] C=0.001, gamma=0.01, kernel=rbf .................................\n",
            "[CV] .................. C=0.001, gamma=0.01, kernel=rbf, total=   9.0s\n",
            "[CV] C=0.001, gamma=0.01, kernel=rbf .................................\n",
            "[CV] .................. C=0.001, gamma=0.01, kernel=rbf, total=   9.0s\n",
            "[CV] C=0.001, gamma=0.1, kernel=linear ...............................\n",
            "[CV] ................ C=0.001, gamma=0.1, kernel=linear, total=   8.8s\n",
            "[CV] C=0.001, gamma=0.1, kernel=linear ...............................\n",
            "[CV] ................ C=0.001, gamma=0.1, kernel=linear, total=   8.7s\n",
            "[CV] C=0.001, gamma=0.1, kernel=linear ...............................\n",
            "[CV] ................ C=0.001, gamma=0.1, kernel=linear, total=   8.8s\n",
            "[CV] C=0.001, gamma=0.1, kernel=rbf ..................................\n",
            "[CV] ................... C=0.001, gamma=0.1, kernel=rbf, total=   9.0s\n",
            "[CV] C=0.001, gamma=0.1, kernel=rbf ..................................\n",
            "[CV] ................... C=0.001, gamma=0.1, kernel=rbf, total=   9.2s\n",
            "[CV] C=0.001, gamma=0.1, kernel=rbf ..................................\n",
            "[CV] ................... C=0.001, gamma=0.1, kernel=rbf, total=   8.9s\n",
            "[CV] C=0.001, gamma=1.0, kernel=linear ...............................\n",
            "[CV] ................ C=0.001, gamma=1.0, kernel=linear, total=   8.7s\n",
            "[CV] C=0.001, gamma=1.0, kernel=linear ...............................\n",
            "[CV] ................ C=0.001, gamma=1.0, kernel=linear, total=   8.8s\n",
            "[CV] C=0.001, gamma=1.0, kernel=linear ...............................\n",
            "[CV] ................ C=0.001, gamma=1.0, kernel=linear, total=   8.8s\n",
            "[CV] C=0.001, gamma=1.0, kernel=rbf ..................................\n",
            "[CV] ................... C=0.001, gamma=1.0, kernel=rbf, total=   9.0s\n",
            "[CV] C=0.001, gamma=1.0, kernel=rbf ..................................\n",
            "[CV] ................... C=0.001, gamma=1.0, kernel=rbf, total=   9.2s\n",
            "[CV] C=0.001, gamma=1.0, kernel=rbf ..................................\n",
            "[CV] ................... C=0.001, gamma=1.0, kernel=rbf, total=   9.0s\n",
            "[CV] C=0.001, gamma=10.0, kernel=linear ..............................\n",
            "[CV] ............... C=0.001, gamma=10.0, kernel=linear, total=   8.9s\n",
            "[CV] C=0.001, gamma=10.0, kernel=linear ..............................\n",
            "[CV] ............... C=0.001, gamma=10.0, kernel=linear, total=   8.8s\n",
            "[CV] C=0.001, gamma=10.0, kernel=linear ..............................\n",
            "[CV] ............... C=0.001, gamma=10.0, kernel=linear, total=   8.9s\n",
            "[CV] C=0.001, gamma=10.0, kernel=rbf .................................\n",
            "[CV] .................. C=0.001, gamma=10.0, kernel=rbf, total=   8.9s\n",
            "[CV] C=0.001, gamma=10.0, kernel=rbf .................................\n",
            "[CV] .................. C=0.001, gamma=10.0, kernel=rbf, total=   8.8s\n",
            "[CV] C=0.001, gamma=10.0, kernel=rbf .................................\n",
            "[CV] .................. C=0.001, gamma=10.0, kernel=rbf, total=   8.8s\n",
            "[CV] C=0.001, gamma=100.0, kernel=linear .............................\n",
            "[CV] .............. C=0.001, gamma=100.0, kernel=linear, total=   9.7s\n",
            "[CV] C=0.001, gamma=100.0, kernel=linear .............................\n",
            "[CV] .............. C=0.001, gamma=100.0, kernel=linear, total=   8.7s\n",
            "[CV] C=0.001, gamma=100.0, kernel=linear .............................\n",
            "[CV] .............. C=0.001, gamma=100.0, kernel=linear, total=   8.7s\n",
            "[CV] C=0.001, gamma=100.0, kernel=rbf ................................\n",
            "[CV] ................. C=0.001, gamma=100.0, kernel=rbf, total=   8.8s\n",
            "[CV] C=0.001, gamma=100.0, kernel=rbf ................................\n",
            "[CV] ................. C=0.001, gamma=100.0, kernel=rbf, total=   8.9s\n",
            "[CV] C=0.001, gamma=100.0, kernel=rbf ................................\n",
            "[CV] ................. C=0.001, gamma=100.0, kernel=rbf, total=   8.9s\n",
            "[CV] C=0.01, gamma=0.001, kernel=linear ..............................\n",
            "[CV] ............... C=0.01, gamma=0.001, kernel=linear, total=   8.8s\n",
            "[CV] C=0.01, gamma=0.001, kernel=linear ..............................\n",
            "[CV] ............... C=0.01, gamma=0.001, kernel=linear, total=   8.8s\n",
            "[CV] C=0.01, gamma=0.001, kernel=linear ..............................\n",
            "[CV] ............... C=0.01, gamma=0.001, kernel=linear, total=   8.8s\n",
            "[CV] C=0.01, gamma=0.001, kernel=rbf .................................\n",
            "[CV] .................. C=0.01, gamma=0.001, kernel=rbf, total=   8.9s\n",
            "[CV] C=0.01, gamma=0.001, kernel=rbf .................................\n",
            "[CV] .................. C=0.01, gamma=0.001, kernel=rbf, total=   9.0s\n",
            "[CV] C=0.01, gamma=0.001, kernel=rbf .................................\n",
            "[CV] .................. C=0.01, gamma=0.001, kernel=rbf, total=   9.0s\n",
            "[CV] C=0.01, gamma=0.01, kernel=linear ...............................\n",
            "[CV] ................ C=0.01, gamma=0.01, kernel=linear, total=   9.3s\n",
            "[CV] C=0.01, gamma=0.01, kernel=linear ...............................\n",
            "[CV] ................ C=0.01, gamma=0.01, kernel=linear, total=   8.9s\n",
            "[CV] C=0.01, gamma=0.01, kernel=linear ...............................\n",
            "[CV] ................ C=0.01, gamma=0.01, kernel=linear, total=   8.8s\n",
            "[CV] C=0.01, gamma=0.01, kernel=rbf ..................................\n",
            "[CV] ................... C=0.01, gamma=0.01, kernel=rbf, total=   9.1s\n",
            "[CV] C=0.01, gamma=0.01, kernel=rbf ..................................\n",
            "[CV] ................... C=0.01, gamma=0.01, kernel=rbf, total=   9.1s\n",
            "[CV] C=0.01, gamma=0.01, kernel=rbf ..................................\n",
            "[CV] ................... C=0.01, gamma=0.01, kernel=rbf, total=   8.9s\n",
            "[CV] C=0.01, gamma=0.1, kernel=linear ................................\n",
            "[CV] ................. C=0.01, gamma=0.1, kernel=linear, total=   8.9s\n",
            "[CV] C=0.01, gamma=0.1, kernel=linear ................................\n",
            "[CV] ................. C=0.01, gamma=0.1, kernel=linear, total=   8.8s\n",
            "[CV] C=0.01, gamma=0.1, kernel=linear ................................\n",
            "[CV] ................. C=0.01, gamma=0.1, kernel=linear, total=   8.9s\n",
            "[CV] C=0.01, gamma=0.1, kernel=rbf ...................................\n",
            "[CV] .................... C=0.01, gamma=0.1, kernel=rbf, total=  10.2s\n",
            "[CV] C=0.01, gamma=0.1, kernel=rbf ...................................\n",
            "[CV] .................... C=0.01, gamma=0.1, kernel=rbf, total=   9.0s\n",
            "[CV] C=0.01, gamma=0.1, kernel=rbf ...................................\n",
            "[CV] .................... C=0.01, gamma=0.1, kernel=rbf, total=   9.1s\n",
            "[CV] C=0.01, gamma=1.0, kernel=linear ................................\n",
            "[CV] ................. C=0.01, gamma=1.0, kernel=linear, total=   9.0s\n",
            "[CV] C=0.01, gamma=1.0, kernel=linear ................................\n",
            "[CV] ................. C=0.01, gamma=1.0, kernel=linear, total=   8.9s\n",
            "[CV] C=0.01, gamma=1.0, kernel=linear ................................\n",
            "[CV] ................. C=0.01, gamma=1.0, kernel=linear, total=   8.8s\n",
            "[CV] C=0.01, gamma=1.0, kernel=rbf ...................................\n",
            "[CV] .................... C=0.01, gamma=1.0, kernel=rbf, total=   9.0s\n",
            "[CV] C=0.01, gamma=1.0, kernel=rbf ...................................\n",
            "[CV] .................... C=0.01, gamma=1.0, kernel=rbf, total=   9.1s\n",
            "[CV] C=0.01, gamma=1.0, kernel=rbf ...................................\n",
            "[CV] .................... C=0.01, gamma=1.0, kernel=rbf, total=   9.2s\n",
            "[CV] C=0.01, gamma=10.0, kernel=linear ...............................\n",
            "[CV] ................ C=0.01, gamma=10.0, kernel=linear, total=   8.8s\n",
            "[CV] C=0.01, gamma=10.0, kernel=linear ...............................\n",
            "[CV] ................ C=0.01, gamma=10.0, kernel=linear, total=   8.8s\n",
            "[CV] C=0.01, gamma=10.0, kernel=linear ...............................\n",
            "[CV] ................ C=0.01, gamma=10.0, kernel=linear, total=   9.0s\n",
            "[CV] C=0.01, gamma=10.0, kernel=rbf ..................................\n",
            "[CV] ................... C=0.01, gamma=10.0, kernel=rbf, total=   9.8s\n",
            "[CV] C=0.01, gamma=10.0, kernel=rbf ..................................\n",
            "[CV] ................... C=0.01, gamma=10.0, kernel=rbf, total=   9.1s\n",
            "[CV] C=0.01, gamma=10.0, kernel=rbf ..................................\n",
            "[CV] ................... C=0.01, gamma=10.0, kernel=rbf, total=   9.1s\n",
            "[CV] C=0.01, gamma=100.0, kernel=linear ..............................\n",
            "[CV] ............... C=0.01, gamma=100.0, kernel=linear, total=   8.8s\n",
            "[CV] C=0.01, gamma=100.0, kernel=linear ..............................\n",
            "[CV] ............... C=0.01, gamma=100.0, kernel=linear, total=   8.8s\n",
            "[CV] C=0.01, gamma=100.0, kernel=linear ..............................\n",
            "[CV] ............... C=0.01, gamma=100.0, kernel=linear, total=   8.7s\n",
            "[CV] C=0.01, gamma=100.0, kernel=rbf .................................\n",
            "[CV] .................. C=0.01, gamma=100.0, kernel=rbf, total=   9.1s\n",
            "[CV] C=0.01, gamma=100.0, kernel=rbf .................................\n",
            "[CV] .................. C=0.01, gamma=100.0, kernel=rbf, total=   9.1s\n",
            "[CV] C=0.01, gamma=100.0, kernel=rbf .................................\n",
            "[CV] .................. C=0.01, gamma=100.0, kernel=rbf, total=   9.1s\n",
            "[CV] C=0.1, gamma=0.001, kernel=linear ...............................\n",
            "[CV] ................ C=0.1, gamma=0.001, kernel=linear, total=   6.3s\n",
            "[CV] C=0.1, gamma=0.001, kernel=linear ...............................\n",
            "[CV] ................ C=0.1, gamma=0.001, kernel=linear, total=   5.5s\n",
            "[CV] C=0.1, gamma=0.001, kernel=linear ...............................\n",
            "[CV] ................ C=0.1, gamma=0.001, kernel=linear, total=   5.6s\n",
            "[CV] C=0.1, gamma=0.001, kernel=rbf ..................................\n",
            "[CV] ................... C=0.1, gamma=0.001, kernel=rbf, total=   9.1s\n",
            "[CV] C=0.1, gamma=0.001, kernel=rbf ..................................\n",
            "[CV] ................... C=0.1, gamma=0.001, kernel=rbf, total=   9.1s\n",
            "[CV] C=0.1, gamma=0.001, kernel=rbf ..................................\n",
            "[CV] ................... C=0.1, gamma=0.001, kernel=rbf, total=   9.1s\n",
            "[CV] C=0.1, gamma=0.01, kernel=linear ................................\n",
            "[CV] ................. C=0.1, gamma=0.01, kernel=linear, total=   5.6s\n",
            "[CV] C=0.1, gamma=0.01, kernel=linear ................................\n",
            "[CV] ................. C=0.1, gamma=0.01, kernel=linear, total=   5.4s\n",
            "[CV] C=0.1, gamma=0.01, kernel=linear ................................\n",
            "[CV] ................. C=0.1, gamma=0.01, kernel=linear, total=   5.5s\n",
            "[CV] C=0.1, gamma=0.01, kernel=rbf ...................................\n",
            "[CV] .................... C=0.1, gamma=0.01, kernel=rbf, total=   9.4s\n",
            "[CV] C=0.1, gamma=0.01, kernel=rbf ...................................\n",
            "[CV] .................... C=0.1, gamma=0.01, kernel=rbf, total=   9.2s\n",
            "[CV] C=0.1, gamma=0.01, kernel=rbf ...................................\n",
            "[CV] .................... C=0.1, gamma=0.01, kernel=rbf, total=   9.2s\n",
            "[CV] C=0.1, gamma=0.1, kernel=linear .................................\n",
            "[CV] .................. C=0.1, gamma=0.1, kernel=linear, total=   5.6s\n",
            "[CV] C=0.1, gamma=0.1, kernel=linear .................................\n",
            "[CV] .................. C=0.1, gamma=0.1, kernel=linear, total=   5.6s\n",
            "[CV] C=0.1, gamma=0.1, kernel=linear .................................\n",
            "[CV] .................. C=0.1, gamma=0.1, kernel=linear, total=   5.6s\n",
            "[CV] C=0.1, gamma=0.1, kernel=rbf ....................................\n",
            "[CV] ..................... C=0.1, gamma=0.1, kernel=rbf, total=   9.0s\n",
            "[CV] C=0.1, gamma=0.1, kernel=rbf ....................................\n",
            "[CV] ..................... C=0.1, gamma=0.1, kernel=rbf, total=   8.6s\n",
            "[CV] C=0.1, gamma=0.1, kernel=rbf ....................................\n",
            "[CV] ..................... C=0.1, gamma=0.1, kernel=rbf, total=   8.5s\n",
            "[CV] C=0.1, gamma=1.0, kernel=linear .................................\n",
            "[CV] .................. C=0.1, gamma=1.0, kernel=linear, total=   5.7s\n",
            "[CV] C=0.1, gamma=1.0, kernel=linear .................................\n",
            "[CV] .................. C=0.1, gamma=1.0, kernel=linear, total=   5.4s\n",
            "[CV] C=0.1, gamma=1.0, kernel=linear .................................\n",
            "[CV] .................. C=0.1, gamma=1.0, kernel=linear, total=   5.5s\n",
            "[CV] C=0.1, gamma=1.0, kernel=rbf ....................................\n",
            "[CV] ..................... C=0.1, gamma=1.0, kernel=rbf, total=   7.1s\n",
            "[CV] C=0.1, gamma=1.0, kernel=rbf ....................................\n",
            "[CV] ..................... C=0.1, gamma=1.0, kernel=rbf, total=   7.0s\n",
            "[CV] C=0.1, gamma=1.0, kernel=rbf ....................................\n",
            "[CV] ..................... C=0.1, gamma=1.0, kernel=rbf, total=   7.0s\n",
            "[CV] C=0.1, gamma=10.0, kernel=linear ................................\n",
            "[CV] ................. C=0.1, gamma=10.0, kernel=linear, total=   5.5s\n",
            "[CV] C=0.1, gamma=10.0, kernel=linear ................................\n",
            "[CV] ................. C=0.1, gamma=10.0, kernel=linear, total=   5.5s\n",
            "[CV] C=0.1, gamma=10.0, kernel=linear ................................\n",
            "[CV] ................. C=0.1, gamma=10.0, kernel=linear, total=   5.6s\n",
            "[CV] C=0.1, gamma=10.0, kernel=rbf ...................................\n",
            "[CV] .................... C=0.1, gamma=10.0, kernel=rbf, total=   9.8s\n",
            "[CV] C=0.1, gamma=10.0, kernel=rbf ...................................\n",
            "[CV] .................... C=0.1, gamma=10.0, kernel=rbf, total=   9.3s\n",
            "[CV] C=0.1, gamma=10.0, kernel=rbf ...................................\n",
            "[CV] .................... C=0.1, gamma=10.0, kernel=rbf, total=   9.1s\n",
            "[CV] C=0.1, gamma=100.0, kernel=linear ...............................\n",
            "[CV] ................ C=0.1, gamma=100.0, kernel=linear, total=   5.6s\n",
            "[CV] C=0.1, gamma=100.0, kernel=linear ...............................\n",
            "[CV] ................ C=0.1, gamma=100.0, kernel=linear, total=   5.4s\n",
            "[CV] C=0.1, gamma=100.0, kernel=linear ...............................\n",
            "[CV] ................ C=0.1, gamma=100.0, kernel=linear, total=   5.5s\n",
            "[CV] C=0.1, gamma=100.0, kernel=rbf ..................................\n",
            "[CV] ................... C=0.1, gamma=100.0, kernel=rbf, total=   9.1s\n",
            "[CV] C=0.1, gamma=100.0, kernel=rbf ..................................\n",
            "[CV] ................... C=0.1, gamma=100.0, kernel=rbf, total=   9.3s\n",
            "[CV] C=0.1, gamma=100.0, kernel=rbf ..................................\n",
            "[CV] ................... C=0.1, gamma=100.0, kernel=rbf, total=   9.4s\n",
            "[CV] C=1.0, gamma=0.001, kernel=linear ...............................\n",
            "[CV] ................ C=1.0, gamma=0.001, kernel=linear, total=   3.6s\n",
            "[CV] C=1.0, gamma=0.001, kernel=linear ...............................\n",
            "[CV] ................ C=1.0, gamma=0.001, kernel=linear, total=   3.5s\n",
            "[CV] C=1.0, gamma=0.001, kernel=linear ...............................\n",
            "[CV] ................ C=1.0, gamma=0.001, kernel=linear, total=   3.6s\n",
            "[CV] C=1.0, gamma=0.001, kernel=rbf ..................................\n",
            "[CV] ................... C=1.0, gamma=0.001, kernel=rbf, total=   9.2s\n",
            "[CV] C=1.0, gamma=0.001, kernel=rbf ..................................\n",
            "[CV] ................... C=1.0, gamma=0.001, kernel=rbf, total=   9.2s\n",
            "[CV] C=1.0, gamma=0.001, kernel=rbf ..................................\n",
            "[CV] ................... C=1.0, gamma=0.001, kernel=rbf, total=  10.0s\n",
            "[CV] C=1.0, gamma=0.01, kernel=linear ................................\n",
            "[CV] ................. C=1.0, gamma=0.01, kernel=linear, total=   3.6s\n",
            "[CV] C=1.0, gamma=0.01, kernel=linear ................................\n",
            "[CV] ................. C=1.0, gamma=0.01, kernel=linear, total=   3.6s\n",
            "[CV] C=1.0, gamma=0.01, kernel=linear ................................\n",
            "[CV] ................. C=1.0, gamma=0.01, kernel=linear, total=   3.6s\n",
            "[CV] C=1.0, gamma=0.01, kernel=rbf ...................................\n",
            "[CV] .................... C=1.0, gamma=0.01, kernel=rbf, total=   8.5s\n",
            "[CV] C=1.0, gamma=0.01, kernel=rbf ...................................\n",
            "[CV] .................... C=1.0, gamma=0.01, kernel=rbf, total=   8.4s\n",
            "[CV] C=1.0, gamma=0.01, kernel=rbf ...................................\n",
            "[CV] .................... C=1.0, gamma=0.01, kernel=rbf, total=   8.3s\n",
            "[CV] C=1.0, gamma=0.1, kernel=linear .................................\n",
            "[CV] .................. C=1.0, gamma=0.1, kernel=linear, total=   3.7s\n",
            "[CV] C=1.0, gamma=0.1, kernel=linear .................................\n",
            "[CV] .................. C=1.0, gamma=0.1, kernel=linear, total=   3.6s\n",
            "[CV] C=1.0, gamma=0.1, kernel=linear .................................\n",
            "[CV] .................. C=1.0, gamma=0.1, kernel=linear, total=   3.6s\n",
            "[CV] C=1.0, gamma=0.1, kernel=rbf ....................................\n",
            "[CV] ..................... C=1.0, gamma=0.1, kernel=rbf, total=   5.1s\n",
            "[CV] C=1.0, gamma=0.1, kernel=rbf ....................................\n",
            "[CV] ..................... C=1.0, gamma=0.1, kernel=rbf, total=   5.1s\n",
            "[CV] C=1.0, gamma=0.1, kernel=rbf ....................................\n",
            "[CV] ..................... C=1.0, gamma=0.1, kernel=rbf, total=   5.1s\n",
            "[CV] C=1.0, gamma=1.0, kernel=linear .................................\n",
            "[CV] .................. C=1.0, gamma=1.0, kernel=linear, total=   3.7s\n",
            "[CV] C=1.0, gamma=1.0, kernel=linear .................................\n",
            "[CV] .................. C=1.0, gamma=1.0, kernel=linear, total=   3.5s\n",
            "[CV] C=1.0, gamma=1.0, kernel=linear .................................\n",
            "[CV] .................. C=1.0, gamma=1.0, kernel=linear, total=   3.6s\n",
            "[CV] C=1.0, gamma=1.0, kernel=rbf ....................................\n",
            "[CV] ..................... C=1.0, gamma=1.0, kernel=rbf, total=   4.8s\n",
            "[CV] C=1.0, gamma=1.0, kernel=rbf ....................................\n",
            "[CV] ..................... C=1.0, gamma=1.0, kernel=rbf, total=   5.0s\n",
            "[CV] C=1.0, gamma=1.0, kernel=rbf ....................................\n",
            "[CV] ..................... C=1.0, gamma=1.0, kernel=rbf, total=   5.6s\n",
            "[CV] C=1.0, gamma=10.0, kernel=linear ................................\n",
            "[CV] ................. C=1.0, gamma=10.0, kernel=linear, total=   3.6s\n",
            "[CV] C=1.0, gamma=10.0, kernel=linear ................................\n",
            "[CV] ................. C=1.0, gamma=10.0, kernel=linear, total=   3.6s\n",
            "[CV] C=1.0, gamma=10.0, kernel=linear ................................\n",
            "[CV] ................. C=1.0, gamma=10.0, kernel=linear, total=   3.7s\n",
            "[CV] C=1.0, gamma=10.0, kernel=rbf ...................................\n",
            "[CV] .................... C=1.0, gamma=10.0, kernel=rbf, total=   9.5s\n",
            "[CV] C=1.0, gamma=10.0, kernel=rbf ...................................\n",
            "[CV] .................... C=1.0, gamma=10.0, kernel=rbf, total=   9.5s\n",
            "[CV] C=1.0, gamma=10.0, kernel=rbf ...................................\n",
            "[CV] .................... C=1.0, gamma=10.0, kernel=rbf, total=   9.4s\n",
            "[CV] C=1.0, gamma=100.0, kernel=linear ...............................\n",
            "[CV] ................ C=1.0, gamma=100.0, kernel=linear, total=   3.6s\n",
            "[CV] C=1.0, gamma=100.0, kernel=linear ...............................\n",
            "[CV] ................ C=1.0, gamma=100.0, kernel=linear, total=   3.6s\n",
            "[CV] C=1.0, gamma=100.0, kernel=linear ...............................\n",
            "[CV] ................ C=1.0, gamma=100.0, kernel=linear, total=   3.6s\n",
            "[CV] C=1.0, gamma=100.0, kernel=rbf ..................................\n",
            "[CV] ................... C=1.0, gamma=100.0, kernel=rbf, total=   9.4s\n",
            "[CV] C=1.0, gamma=100.0, kernel=rbf ..................................\n",
            "[CV] ................... C=1.0, gamma=100.0, kernel=rbf, total=   9.4s\n",
            "[CV] C=1.0, gamma=100.0, kernel=rbf ..................................\n",
            "[CV] ................... C=1.0, gamma=100.0, kernel=rbf, total=   9.3s\n",
            "[CV] C=10.0, gamma=0.001, kernel=linear ..............................\n",
            "[CV] ............... C=10.0, gamma=0.001, kernel=linear, total=   3.1s\n",
            "[CV] C=10.0, gamma=0.001, kernel=linear ..............................\n",
            "[CV] ............... C=10.0, gamma=0.001, kernel=linear, total=   3.0s\n",
            "[CV] C=10.0, gamma=0.001, kernel=linear ..............................\n",
            "[CV] ............... C=10.0, gamma=0.001, kernel=linear, total=   3.2s\n",
            "[CV] C=10.0, gamma=0.001, kernel=rbf .................................\n",
            "[CV] .................. C=10.0, gamma=0.001, kernel=rbf, total=   8.4s\n",
            "[CV] C=10.0, gamma=0.001, kernel=rbf .................................\n",
            "[CV] .................. C=10.0, gamma=0.001, kernel=rbf, total=   8.4s\n",
            "[CV] C=10.0, gamma=0.001, kernel=rbf .................................\n",
            "[CV] .................. C=10.0, gamma=0.001, kernel=rbf, total=   8.4s\n",
            "[CV] C=10.0, gamma=0.01, kernel=linear ...............................\n",
            "[CV] ................ C=10.0, gamma=0.01, kernel=linear, total=   3.1s\n",
            "[CV] C=10.0, gamma=0.01, kernel=linear ...............................\n",
            "[CV] ................ C=10.0, gamma=0.01, kernel=linear, total=   3.0s\n",
            "[CV] C=10.0, gamma=0.01, kernel=linear ...............................\n",
            "[CV] ................ C=10.0, gamma=0.01, kernel=linear, total=   3.2s\n",
            "[CV] C=10.0, gamma=0.01, kernel=rbf ..................................\n",
            "[CV] ................... C=10.0, gamma=0.01, kernel=rbf, total=   5.0s\n",
            "[CV] C=10.0, gamma=0.01, kernel=rbf ..................................\n",
            "[CV] ................... C=10.0, gamma=0.01, kernel=rbf, total=   4.9s\n",
            "[CV] C=10.0, gamma=0.01, kernel=rbf ..................................\n",
            "[CV] ................... C=10.0, gamma=0.01, kernel=rbf, total=   5.0s\n",
            "[CV] C=10.0, gamma=0.1, kernel=linear ................................\n",
            "[CV] ................. C=10.0, gamma=0.1, kernel=linear, total=   3.1s\n",
            "[CV] C=10.0, gamma=0.1, kernel=linear ................................\n",
            "[CV] ................. C=10.0, gamma=0.1, kernel=linear, total=   3.0s\n",
            "[CV] C=10.0, gamma=0.1, kernel=linear ................................\n",
            "[CV] ................. C=10.0, gamma=0.1, kernel=linear, total=   3.2s\n",
            "[CV] C=10.0, gamma=0.1, kernel=rbf ...................................\n",
            "[CV] .................... C=10.0, gamma=0.1, kernel=rbf, total=   3.5s\n",
            "[CV] C=10.0, gamma=0.1, kernel=rbf ...................................\n",
            "[CV] .................... C=10.0, gamma=0.1, kernel=rbf, total=   3.6s\n",
            "[CV] C=10.0, gamma=0.1, kernel=rbf ...................................\n",
            "[CV] .................... C=10.0, gamma=0.1, kernel=rbf, total=   3.6s\n",
            "[CV] C=10.0, gamma=1.0, kernel=linear ................................\n",
            "[CV] ................. C=10.0, gamma=1.0, kernel=linear, total=   3.1s\n",
            "[CV] C=10.0, gamma=1.0, kernel=linear ................................\n",
            "[CV] ................. C=10.0, gamma=1.0, kernel=linear, total=   3.0s\n",
            "[CV] C=10.0, gamma=1.0, kernel=linear ................................\n",
            "[CV] ................. C=10.0, gamma=1.0, kernel=linear, total=   3.2s\n",
            "[CV] C=10.0, gamma=1.0, kernel=rbf ...................................\n",
            "[CV] .................... C=10.0, gamma=1.0, kernel=rbf, total=   6.5s\n",
            "[CV] C=10.0, gamma=1.0, kernel=rbf ...................................\n",
            "[CV] .................... C=10.0, gamma=1.0, kernel=rbf, total=   6.4s\n",
            "[CV] C=10.0, gamma=1.0, kernel=rbf ...................................\n",
            "[CV] .................... C=10.0, gamma=1.0, kernel=rbf, total=   6.4s\n",
            "[CV] C=10.0, gamma=10.0, kernel=linear ...............................\n",
            "[CV] ................ C=10.0, gamma=10.0, kernel=linear, total=   3.0s\n",
            "[CV] C=10.0, gamma=10.0, kernel=linear ...............................\n",
            "[CV] ................ C=10.0, gamma=10.0, kernel=linear, total=   3.3s\n",
            "[CV] C=10.0, gamma=10.0, kernel=linear ...............................\n",
            "[CV] ................ C=10.0, gamma=10.0, kernel=linear, total=   3.6s\n",
            "[CV] C=10.0, gamma=10.0, kernel=rbf ..................................\n",
            "[CV] ................... C=10.0, gamma=10.0, kernel=rbf, total=   9.2s\n",
            "[CV] C=10.0, gamma=10.0, kernel=rbf ..................................\n",
            "[CV] ................... C=10.0, gamma=10.0, kernel=rbf, total=   9.1s\n",
            "[CV] C=10.0, gamma=10.0, kernel=rbf ..................................\n",
            "[CV] ................... C=10.0, gamma=10.0, kernel=rbf, total=   9.2s\n",
            "[CV] C=10.0, gamma=100.0, kernel=linear ..............................\n",
            "[CV] ............... C=10.0, gamma=100.0, kernel=linear, total=   3.0s\n",
            "[CV] C=10.0, gamma=100.0, kernel=linear ..............................\n",
            "[CV] ............... C=10.0, gamma=100.0, kernel=linear, total=   3.0s\n",
            "[CV] C=10.0, gamma=100.0, kernel=linear ..............................\n",
            "[CV] ............... C=10.0, gamma=100.0, kernel=linear, total=   3.2s\n",
            "[CV] C=10.0, gamma=100.0, kernel=rbf .................................\n",
            "[CV] .................. C=10.0, gamma=100.0, kernel=rbf, total=   9.4s\n",
            "[CV] C=10.0, gamma=100.0, kernel=rbf .................................\n",
            "[CV] .................. C=10.0, gamma=100.0, kernel=rbf, total=   9.3s\n",
            "[CV] C=10.0, gamma=100.0, kernel=rbf .................................\n",
            "[CV] .................. C=10.0, gamma=100.0, kernel=rbf, total=   9.3s\n",
            "[CV] C=100.0, gamma=0.001, kernel=linear .............................\n",
            "[CV] .............. C=100.0, gamma=0.001, kernel=linear, total=   4.9s\n",
            "[CV] C=100.0, gamma=0.001, kernel=linear .............................\n",
            "[CV] .............. C=100.0, gamma=0.001, kernel=linear, total=   6.0s\n",
            "[CV] C=100.0, gamma=0.001, kernel=linear .............................\n",
            "[CV] .............. C=100.0, gamma=0.001, kernel=linear, total=   5.1s\n",
            "[CV] C=100.0, gamma=0.001, kernel=rbf ................................\n",
            "[CV] ................. C=100.0, gamma=0.001, kernel=rbf, total=   5.0s\n",
            "[CV] C=100.0, gamma=0.001, kernel=rbf ................................\n",
            "[CV] ................. C=100.0, gamma=0.001, kernel=rbf, total=   4.8s\n",
            "[CV] C=100.0, gamma=0.001, kernel=rbf ................................\n",
            "[CV] ................. C=100.0, gamma=0.001, kernel=rbf, total=   4.9s\n",
            "[CV] C=100.0, gamma=0.01, kernel=linear ..............................\n",
            "[CV] ............... C=100.0, gamma=0.01, kernel=linear, total=   5.2s\n",
            "[CV] C=100.0, gamma=0.01, kernel=linear ..............................\n",
            "[CV] ............... C=100.0, gamma=0.01, kernel=linear, total=   5.9s\n",
            "[CV] C=100.0, gamma=0.01, kernel=linear ..............................\n",
            "[CV] ............... C=100.0, gamma=0.01, kernel=linear, total=   5.0s\n",
            "[CV] C=100.0, gamma=0.01, kernel=rbf .................................\n",
            "[CV] .................. C=100.0, gamma=0.01, kernel=rbf, total=   3.3s\n",
            "[CV] C=100.0, gamma=0.01, kernel=rbf .................................\n",
            "[CV] .................. C=100.0, gamma=0.01, kernel=rbf, total=   3.4s\n",
            "[CV] C=100.0, gamma=0.01, kernel=rbf .................................\n",
            "[CV] .................. C=100.0, gamma=0.01, kernel=rbf, total=   3.4s\n",
            "[CV] C=100.0, gamma=0.1, kernel=linear ...............................\n",
            "[CV] ................ C=100.0, gamma=0.1, kernel=linear, total=   4.9s\n",
            "[CV] C=100.0, gamma=0.1, kernel=linear ...............................\n",
            "[CV] ................ C=100.0, gamma=0.1, kernel=linear, total=   5.9s\n",
            "[CV] C=100.0, gamma=0.1, kernel=linear ...............................\n",
            "[CV] ................ C=100.0, gamma=0.1, kernel=linear, total=   5.1s\n",
            "[CV] C=100.0, gamma=0.1, kernel=rbf ..................................\n",
            "[CV] ................... C=100.0, gamma=0.1, kernel=rbf, total=   3.6s\n",
            "[CV] C=100.0, gamma=0.1, kernel=rbf ..................................\n",
            "[CV] ................... C=100.0, gamma=0.1, kernel=rbf, total=   3.6s\n",
            "[CV] C=100.0, gamma=0.1, kernel=rbf ..................................\n",
            "[CV] ................... C=100.0, gamma=0.1, kernel=rbf, total=   3.8s\n",
            "[CV] C=100.0, gamma=1.0, kernel=linear ...............................\n",
            "[CV] ................ C=100.0, gamma=1.0, kernel=linear, total=   4.8s\n",
            "[CV] C=100.0, gamma=1.0, kernel=linear ...............................\n",
            "[CV] ................ C=100.0, gamma=1.0, kernel=linear, total=   5.9s\n",
            "[CV] C=100.0, gamma=1.0, kernel=linear ...............................\n",
            "[CV] ................ C=100.0, gamma=1.0, kernel=linear, total=   5.1s\n",
            "[CV] C=100.0, gamma=1.0, kernel=rbf ..................................\n",
            "[CV] ................... C=100.0, gamma=1.0, kernel=rbf, total=   6.5s\n",
            "[CV] C=100.0, gamma=1.0, kernel=rbf ..................................\n",
            "[CV] ................... C=100.0, gamma=1.0, kernel=rbf, total=   6.5s\n",
            "[CV] C=100.0, gamma=1.0, kernel=rbf ..................................\n",
            "[CV] ................... C=100.0, gamma=1.0, kernel=rbf, total=   6.5s\n",
            "[CV] C=100.0, gamma=10.0, kernel=linear ..............................\n",
            "[CV] ............... C=100.0, gamma=10.0, kernel=linear, total=   4.9s\n",
            "[CV] C=100.0, gamma=10.0, kernel=linear ..............................\n",
            "[CV] ............... C=100.0, gamma=10.0, kernel=linear, total=   6.0s\n",
            "[CV] C=100.0, gamma=10.0, kernel=linear ..............................\n",
            "[CV] ............... C=100.0, gamma=10.0, kernel=linear, total=   5.0s\n",
            "[CV] C=100.0, gamma=10.0, kernel=rbf .................................\n",
            "[CV] .................. C=100.0, gamma=10.0, kernel=rbf, total=   9.2s\n",
            "[CV] C=100.0, gamma=10.0, kernel=rbf .................................\n",
            "[CV] .................. C=100.0, gamma=10.0, kernel=rbf, total=   9.9s\n",
            "[CV] C=100.0, gamma=10.0, kernel=rbf .................................\n",
            "[CV] .................. C=100.0, gamma=10.0, kernel=rbf, total=   9.3s\n",
            "[CV] C=100.0, gamma=100.0, kernel=linear .............................\n",
            "[CV] .............. C=100.0, gamma=100.0, kernel=linear, total=   4.9s\n",
            "[CV] C=100.0, gamma=100.0, kernel=linear .............................\n",
            "[CV] .............. C=100.0, gamma=100.0, kernel=linear, total=   6.0s\n",
            "[CV] C=100.0, gamma=100.0, kernel=linear .............................\n",
            "[CV] .............. C=100.0, gamma=100.0, kernel=linear, total=   5.2s\n",
            "[CV] C=100.0, gamma=100.0, kernel=rbf ................................\n",
            "[CV] ................. C=100.0, gamma=100.0, kernel=rbf, total=   9.5s\n",
            "[CV] C=100.0, gamma=100.0, kernel=rbf ................................\n",
            "[CV] ................. C=100.0, gamma=100.0, kernel=rbf, total=   9.3s\n",
            "[CV] C=100.0, gamma=100.0, kernel=rbf ................................\n",
            "[CV] ................. C=100.0, gamma=100.0, kernel=rbf, total=   9.3s\n"
          ],
          "name": "stdout"
        },
        {
          "output_type": "stream",
          "text": [
            "[Parallel(n_jobs=1)]: Done 216 out of 216 | elapsed: 40.2min finished\n"
          ],
          "name": "stderr"
        },
        {
          "output_type": "stream",
          "text": [
            "best parameter {'alpha': 0.1}\n",
            "Best score 0.8336475023562677\n"
          ],
          "name": "stdout"
        }
      ]
    },
    {
      "metadata": {
        "id": "atA_ERBz_nlv",
        "colab_type": "text"
      },
      "cell_type": "markdown",
      "source": [
        "**Linear Models** "
      ]
    },
    {
      "metadata": {
        "id": "IOGbRvFiRCXH",
        "colab_type": "text"
      },
      "cell_type": "markdown",
      "source": [
        "tfidf vectorizer"
      ]
    },
    {
      "metadata": {
        "id": "TC_i-QRb_nlw",
        "colab_type": "code",
        "colab": {}
      },
      "cell_type": "code",
      "source": [
        "linear_clf = PassiveAggressiveClassifier(n_iter=50)"
      ],
      "execution_count": 0,
      "outputs": []
    },
    {
      "metadata": {
        "id": "iTnkEOvM_nl1",
        "colab_type": "code",
        "outputId": "1971f986-6896-4d85-ec28-2f34c61ca4c3",
        "colab": {
          "base_uri": "https://localhost:8080/",
          "height": 127
        }
      },
      "cell_type": "code",
      "source": [
        "linear_clf.fit(tfidf_train, y_train)\n",
        "pred_l = linear_clf.predict(tfidf_test)\n",
        "score = metrics.accuracy_score(y_test, pred_l)\n",
        "print(\"accuracy:   %0.3f\" % score)\n",
        "cm_linear = metrics.confusion_matrix(y_test, pred_l)"
      ],
      "execution_count": 21,
      "outputs": [
        {
          "output_type": "stream",
          "text": [
            "accuracy:   0.850\n"
          ],
          "name": "stdout"
        },
        {
          "output_type": "stream",
          "text": [
            "/usr/local/lib/python3.6/dist-packages/sklearn/linear_model/stochastic_gradient.py:152: DeprecationWarning: n_iter parameter is deprecated in 0.19 and will be removed in 0.21. Use max_iter and tol instead.\n",
            "  DeprecationWarning)\n",
            "/usr/local/lib/python3.6/dist-packages/sklearn/linear_model/stochastic_gradient.py:152: DeprecationWarning: n_iter parameter is deprecated in 0.19 and will be removed in 0.21. Use max_iter and tol instead.\n",
            "  DeprecationWarning)\n"
          ],
          "name": "stderr"
        }
      ]
    },
    {
      "metadata": {
        "id": "LRSucmld_nl5",
        "colab_type": "code",
        "outputId": "f7c4a83d-f2d1-44d3-8e08-e1e0bfa10abf",
        "colab": {
          "base_uri": "https://localhost:8080/",
          "height": 53
        }
      },
      "cell_type": "code",
      "source": [
        "cm_linear"
      ],
      "execution_count": 0,
      "outputs": [
        {
          "output_type": "execute_result",
          "data": {
            "text/plain": [
              "array([[860, 148],\n",
              "       [168, 915]])"
            ]
          },
          "metadata": {
            "tags": []
          },
          "execution_count": 72
        }
      ]
    },
    {
      "metadata": {
        "id": "S8OVaL2iHYWB",
        "colab_type": "code",
        "outputId": "9a109d87-db70-4acf-88e5-966c778d151a",
        "colab": {
          "base_uri": "https://localhost:8080/",
          "height": 179
        }
      },
      "cell_type": "code",
      "source": [
        "print(metrics.classification_report(y_test, pred_l))"
      ],
      "execution_count": 0,
      "outputs": [
        {
          "output_type": "stream",
          "text": [
            "              precision    recall  f1-score   support\n",
            "\n",
            "        FAKE       0.84      0.85      0.84      1008\n",
            "        REAL       0.86      0.84      0.85      1083\n",
            "\n",
            "   micro avg       0.85      0.85      0.85      2091\n",
            "   macro avg       0.85      0.85      0.85      2091\n",
            "weighted avg       0.85      0.85      0.85      2091\n",
            "\n"
          ],
          "name": "stdout"
        }
      ]
    },
    {
      "metadata": {
        "id": "tTgMWjx_RL-m",
        "colab_type": "text"
      },
      "cell_type": "markdown",
      "source": [
        "count vectorizer"
      ]
    },
    {
      "metadata": {
        "id": "_JyuzT-ZRKQm",
        "colab_type": "code",
        "outputId": "35435ca1-1d8f-4a47-a406-43e5f2f41048",
        "colab": {
          "base_uri": "https://localhost:8080/",
          "height": 127
        }
      },
      "cell_type": "code",
      "source": [
        "linear_clf.fit(count_train, y_train)\n",
        "pred_l_c = linear_clf.predict(count_test)\n",
        "score = metrics.accuracy_score(y_test, pred_l_c)\n",
        "print(\"accuracy:   %0.3f\" % score)\n",
        "cm_linear = metrics.confusion_matrix(y_test, pred_l_c)"
      ],
      "execution_count": 0,
      "outputs": [
        {
          "output_type": "stream",
          "text": [
            "accuracy:   0.785\n"
          ],
          "name": "stdout"
        },
        {
          "output_type": "stream",
          "text": [
            "/usr/local/lib/python3.6/dist-packages/sklearn/linear_model/stochastic_gradient.py:152: DeprecationWarning: n_iter parameter is deprecated in 0.19 and will be removed in 0.21. Use max_iter and tol instead.\n",
            "  DeprecationWarning)\n",
            "/usr/local/lib/python3.6/dist-packages/sklearn/linear_model/stochastic_gradient.py:152: DeprecationWarning: n_iter parameter is deprecated in 0.19 and will be removed in 0.21. Use max_iter and tol instead.\n",
            "  DeprecationWarning)\n"
          ],
          "name": "stderr"
        }
      ]
    },
    {
      "metadata": {
        "id": "3I-LrKsaRJ40",
        "colab_type": "code",
        "outputId": "f619e437-9373-4e00-87f3-7403c71b335d",
        "colab": {
          "base_uri": "https://localhost:8080/",
          "height": 53
        }
      },
      "cell_type": "code",
      "source": [
        "cm_linear"
      ],
      "execution_count": 0,
      "outputs": [
        {
          "output_type": "execute_result",
          "data": {
            "text/plain": [
              "array([[891, 117],\n",
              "       [332, 751]])"
            ]
          },
          "metadata": {
            "tags": []
          },
          "execution_count": 75
        }
      ]
    },
    {
      "metadata": {
        "id": "Y89KxINXRJki",
        "colab_type": "code",
        "outputId": "b78606a6-85ce-46e5-cfff-464a9b4cbdec",
        "colab": {
          "base_uri": "https://localhost:8080/",
          "height": 179
        }
      },
      "cell_type": "code",
      "source": [
        "print(metrics.classification_report(y_test, pred_l_c))"
      ],
      "execution_count": 0,
      "outputs": [
        {
          "output_type": "stream",
          "text": [
            "              precision    recall  f1-score   support\n",
            "\n",
            "        FAKE       0.73      0.88      0.80      1008\n",
            "        REAL       0.87      0.69      0.77      1083\n",
            "\n",
            "   micro avg       0.79      0.79      0.79      2091\n",
            "   macro avg       0.80      0.79      0.78      2091\n",
            "weighted avg       0.80      0.79      0.78      2091\n",
            "\n"
          ],
          "name": "stdout"
        }
      ]
    },
    {
      "metadata": {
        "id": "cZVIv4j2Rngm",
        "colab_type": "text"
      },
      "cell_type": "markdown",
      "source": [
        "Above models have shown that count vectorizer is giving less accuracy and f1-score than tf-idf vectorizer, also using count vectorizer models are predicting more false fake i.e; predicting real news as fake news. Therefore, tfidf vectorizer is trained further for other models"
      ]
    },
    {
      "metadata": {
        "id": "X2HCXALAIcNI",
        "colab_type": "text"
      },
      "cell_type": "markdown",
      "source": [
        "**RandomForest Classifier**"
      ]
    },
    {
      "metadata": {
        "id": "lSoc6-KkZTGC",
        "colab_type": "code",
        "outputId": "571be788-f96b-4789-a3ef-fc093971e88b",
        "colab": {
          "base_uri": "https://localhost:8080/",
          "height": 253
        }
      },
      "cell_type": "code",
      "source": [
        "from sklearn.ensemble import RandomForestClassifier\n",
        "clf1 = RandomForestClassifier(random_state=0, n_jobs=-1, class_weight='balanced')  \n",
        "model = clf1.fit(tfidf_train, y_train)\n",
        "predict = model.predict(tfidf_test)\n",
        "proba = model.predict_proba(tfidf_test)\n",
        "score = metrics.accuracy_score(y_test, predict)\n",
        "print(\"accuracy:   %0.3f\" % score)\n",
        "cm = metrics.confusion_matrix(y_test, predict)\n",
        "print(metrics.classification_report(y_test, predict))"
      ],
      "execution_count": 0,
      "outputs": [
        {
          "output_type": "stream",
          "text": [
            "/usr/local/lib/python3.6/dist-packages/sklearn/ensemble/forest.py:246: FutureWarning: The default value of n_estimators will change from 10 in version 0.20 to 100 in 0.22.\n",
            "  \"10 in version 0.20 to 100 in 0.22.\", FutureWarning)\n"
          ],
          "name": "stderr"
        },
        {
          "output_type": "stream",
          "text": [
            "accuracy:   0.836\n",
            "              precision    recall  f1-score   support\n",
            "\n",
            "        FAKE       0.79      0.91      0.84      1008\n",
            "        REAL       0.90      0.77      0.83      1083\n",
            "\n",
            "   micro avg       0.84      0.84      0.84      2091\n",
            "   macro avg       0.84      0.84      0.84      2091\n",
            "weighted avg       0.84      0.84      0.84      2091\n",
            "\n"
          ],
          "name": "stdout"
        }
      ]
    },
    {
      "metadata": {
        "id": "WapokkGGMhWg",
        "colab_type": "code",
        "outputId": "42683cf2-0e71-46b0-85f1-0ed16d3ee239",
        "colab": {
          "base_uri": "https://localhost:8080/",
          "height": 53
        }
      },
      "cell_type": "code",
      "source": [
        "cm"
      ],
      "execution_count": 0,
      "outputs": [
        {
          "output_type": "execute_result",
          "data": {
            "text/plain": [
              "array([[913,  95],\n",
              "       [248, 835]])"
            ]
          },
          "metadata": {
            "tags": []
          },
          "execution_count": 78
        }
      ]
    },
    {
      "metadata": {
        "id": "3atNW-AeZygS",
        "colab_type": "code",
        "outputId": "e6dca3e9-9e1e-4027-b14d-fc7219f0312c",
        "colab": {
          "base_uri": "https://localhost:8080/",
          "height": 519
        }
      },
      "cell_type": "code",
      "source": [
        "import matplotlib.pyplot as plt\n",
        "\n",
        "skplt.metrics.plot_roc_curve(y_test, proba,figsize=(10,7))\n",
        "plt.show()"
      ],
      "execution_count": 0,
      "outputs": [
        {
          "output_type": "stream",
          "text": [
            "/usr/local/lib/python3.6/dist-packages/sklearn/utils/deprecation.py:77: DeprecationWarning: Function plot_roc_curve is deprecated; This will be removed in v0.5.0. Please use scikitplot.metrics.plot_roc instead.\n",
            "  warnings.warn(msg, category=DeprecationWarning)\n"
          ],
          "name": "stderr"
        },
        {
          "output_type": "display_data",
          "data": {
            "image/png": "[encoded data removed]",
            "text/plain": [
              "<Figure size 720x504 with 1 Axes>"
            ]
          },
          "metadata": {
            "tags": []
          }
        }
      ]
    },
    {
      "metadata": {
        "id": "qgxsk2vT3rKT",
        "colab_type": "text"
      },
      "cell_type": "markdown",
      "source": [
        "**XGBoost**"
      ]
    },
    {
      "metadata": {
        "id": "V0uX83Baur1D",
        "colab_type": "code",
        "colab": {}
      },
      "cell_type": "code",
      "source": [
        "import xgboost as xgb\n",
        "from sklearn.metrics import accuracy_score"
      ],
      "execution_count": 0,
      "outputs": []
    },
    {
      "metadata": {
        "id": "n3ekbE-HZycu",
        "colab_type": "code",
        "colab": {}
      },
      "cell_type": "code",
      "source": [
        "model3 = xgb.XGBClassifier(\n",
        " learning_rate =0.1,\n",
        " n_estimators=1000,\n",
        " max_depth=5,\n",
        " min_child_weight=1,\n",
        " gamma=0,\n",
        " subsample=0.8,\n",
        " colsample_bytree=0.8,\n",
        " objective= 'binary:logistic',\n",
        " nthread=4,\n",
        " scale_pos_weight=1,\n",
        " seed=27)"
      ],
      "execution_count": 0,
      "outputs": []
    },
    {
      "metadata": {
        "id": "oqReAoS6u59J",
        "colab_type": "code",
        "outputId": "6dfeb5c7-a8b8-4f13-aeff-dd5ac914675f",
        "colab": {
          "base_uri": "https://localhost:8080/",
          "height": 35
        }
      },
      "cell_type": "code",
      "source": [
        "from sklearn.model_selection import GridSearchCV\n",
        "\n",
        "param_test = {\n",
        " 'max_depth':[4,5,6],\n",
        " 'min_child_weight':[4,5,6]\n",
        "}\n",
        "gsearch = GridSearchCV(estimator = xgb.XGBClassifier( learning_rate=0.1, n_estimators=140, max_depth=5,\n",
        "                       min_child_weight=2, gamma=0, subsample=0.8, colsample_bytree=0.8,\n",
        "                       objective= 'binary:logistic', nthread=4, scale_pos_weight=1,seed=27), \n",
        "                       param_grid = param_test,n_jobs=4,iid=False, cv=5)\n",
        "\n",
        "train_model4 = gsearch.fit(tfidf_train, y_train)\n",
        "pred4 = train_model4.predict(tfidf_test)\n",
        "print(\"Accuracy for model 4: %.2f\" % (accuracy_score(y_test, pred4)))"
      ],
      "execution_count": 0,
      "outputs": [
        {
          "output_type": "stream",
          "text": [
            "Accuracy for model 4: 0.90\n"
          ],
          "name": "stdout"
        }
      ]
    },
    {
      "metadata": {
        "id": "bk9Q09JqAmrl",
        "colab_type": "code",
        "outputId": "eae629a7-383b-4175-ff8f-56b99b54f120",
        "colab": {
          "base_uri": "https://localhost:8080/",
          "height": 53
        }
      },
      "cell_type": "code",
      "source": [
        "cm = metrics.confusion_matrix(y_test, pred4)\n",
        "cm"
      ],
      "execution_count": 0,
      "outputs": [
        {
          "output_type": "execute_result",
          "data": {
            "text/plain": [
              "array([[926,  82],\n",
              "       [135, 948]])"
            ]
          },
          "metadata": {
            "tags": []
          },
          "execution_count": 83
        }
      ]
    },
    {
      "metadata": {
        "id": "fabkObgt0sXB",
        "colab_type": "text"
      },
      "cell_type": "markdown",
      "source": [
        " XGBoost gave the best acuracy score and best f1-score, predicting only 135 real news as Fake news and 926 correctly as Fake news which is better than other models as shown in confusion matrix above."
      ]
    },
    {
      "metadata": {
        "id": "EnNCZGShHPfu",
        "colab_type": "code",
        "outputId": "28cb9ba5-5a3d-406b-c5a9-ef0a333b7e10",
        "colab": {
          "base_uri": "https://localhost:8080/",
          "height": 179
        }
      },
      "cell_type": "code",
      "source": [
        "print(metrics.classification_report(y_test, pred4))"
      ],
      "execution_count": 0,
      "outputs": [
        {
          "output_type": "stream",
          "text": [
            "              precision    recall  f1-score   support\n",
            "\n",
            "        FAKE       0.87      0.92      0.90      1008\n",
            "        REAL       0.92      0.88      0.90      1083\n",
            "\n",
            "   micro avg       0.90      0.90      0.90      2091\n",
            "   macro avg       0.90      0.90      0.90      2091\n",
            "weighted avg       0.90      0.90      0.90      2091\n",
            "\n"
          ],
          "name": "stdout"
        }
      ]
    },
    {
      "metadata": {
        "id": "1ev5eyyPVMRL",
        "colab_type": "code",
        "outputId": "9ab3adf3-8680-4882-bbb2-6fa38ff52b45",
        "colab": {
          "base_uri": "https://localhost:8080/",
          "height": 519
        }
      },
      "cell_type": "code",
      "source": [
        "proba_tfidf = train_model4.predict_proba(tfidf_test)\n",
        "skplt.metrics.plot_roc_curve(y_test, proba_tfidf,figsize=(10,7))\n",
        "plt.show()"
      ],
      "execution_count": 0,
      "outputs": [
        {
          "output_type": "stream",
          "text": [
            "/usr/local/lib/python3.6/dist-packages/sklearn/utils/deprecation.py:77: DeprecationWarning: Function plot_roc_curve is deprecated; This will be removed in v0.5.0. Please use scikitplot.metrics.plot_roc instead.\n",
            "  warnings.warn(msg, category=DeprecationWarning)\n"
          ],
          "name": "stderr"
        },
        {
          "output_type": "display_data",
          "data": {
            "image/png": "[encoded data removed]",
            "text/plain": [
              "<Figure size 720x504 with 1 Axes>"
            ]
          },
          "metadata": {
            "tags": []
          }
        }
      ]
    },
    {
      "metadata": {
        "id": "XU18u_AI_nms",
        "colab_type": "text"
      },
      "cell_type": "markdown",
      "source": [
        "# Hashing Vectorizier"
      ]
    },
    {
      "metadata": {
        "id": "A8dCn1Ek_nmt",
        "colab_type": "code",
        "outputId": "cec273c3-2951-4a96-e041-1c9b3e21e743",
        "colab": {
          "base_uri": "https://localhost:8080/",
          "height": 181
        }
      },
      "cell_type": "code",
      "source": [
        "hash_vectorizer = HashingVectorizer(stop_words='english',ngram_range=(1, 3), non_negative=True,tokenizer=token_lemmatize,analyzer = 'word')\n",
        "hash_train = hash_vectorizer.fit_transform(X_train)\n",
        "hash_test = hash_vectorizer.transform(X_test)"
      ],
      "execution_count": 0,
      "outputs": [
        {
          "output_type": "stream",
          "text": [
            "/usr/local/lib/python3.6/dist-packages/sklearn/feature_extraction/hashing.py:102: DeprecationWarning: the option non_negative=True has been deprecated in 0.19 and will be removed in version 0.21.\n",
            "  \" in version 0.21.\", DeprecationWarning)\n",
            "/usr/local/lib/python3.6/dist-packages/sklearn/feature_extraction/text.py:300: UserWarning: Your stop_words may be inconsistent with your preprocessing. Tokenizing the stop words generated tokens ['le'] not in stop_words.\n",
            "  'stop_words.' % sorted(inconsistent))\n",
            "/usr/local/lib/python3.6/dist-packages/sklearn/feature_extraction/hashing.py:102: DeprecationWarning: the option non_negative=True has been deprecated in 0.19 and will be removed in version 0.21.\n",
            "  \" in version 0.21.\", DeprecationWarning)\n",
            "/usr/local/lib/python3.6/dist-packages/sklearn/feature_extraction/hashing.py:102: DeprecationWarning: the option non_negative=True has been deprecated in 0.19 and will be removed in version 0.21.\n",
            "  \" in version 0.21.\", DeprecationWarning)\n"
          ],
          "name": "stderr"
        }
      ]
    },
    {
      "metadata": {
        "id": "LILuLirv_nm3",
        "colab_type": "code",
        "colab": {}
      },
      "cell_type": "code",
      "source": [
        "clf2 = MultinomialNB(alpha=.01)"
      ],
      "execution_count": 0,
      "outputs": []
    },
    {
      "metadata": {
        "id": "t5Ctjfkz_nm6",
        "colab_type": "code",
        "outputId": "d776c285-7cb2-4c18-94ed-0de49e955cd4",
        "colab": {
          "base_uri": "https://localhost:8080/",
          "height": 35
        }
      },
      "cell_type": "code",
      "source": [
        "clf2.fit(hash_train, y_train)\n",
        "pred_nb_h = clf2.predict(hash_test)\n",
        "score = metrics.accuracy_score(y_test, pred_nb_h)\n",
        "print(\"accuracy:   %0.3f\" % score)\n",
        "cm = metrics.confusion_matrix(y_test, pred_nb_h)"
      ],
      "execution_count": 0,
      "outputs": [
        {
          "output_type": "stream",
          "text": [
            "accuracy:   0.905\n"
          ],
          "name": "stdout"
        }
      ]
    },
    {
      "metadata": {
        "id": "qP6_Z6zWm07u",
        "colab_type": "code",
        "outputId": "e50eef57-e4c7-4403-bd6c-c28f58feda99",
        "colab": {
          "base_uri": "https://localhost:8080/",
          "height": 53
        }
      },
      "cell_type": "code",
      "source": [
        "cm"
      ],
      "execution_count": 0,
      "outputs": [
        {
          "output_type": "execute_result",
          "data": {
            "text/plain": [
              "array([[ 851,  157],\n",
              "       [  42, 1041]])"
            ]
          },
          "metadata": {
            "tags": []
          },
          "execution_count": 15
        }
      ]
    },
    {
      "metadata": {
        "id": "tNThc0DePPJX",
        "colab_type": "code",
        "outputId": "a033f333-0672-467e-c6b1-fe956f00c661",
        "colab": {
          "base_uri": "https://localhost:8080/",
          "height": 179
        }
      },
      "cell_type": "code",
      "source": [
        "print(metrics.classification_report(y_test, pred_nb_h))"
      ],
      "execution_count": 0,
      "outputs": [
        {
          "output_type": "stream",
          "text": [
            "              precision    recall  f1-score   support\n",
            "\n",
            "        FAKE       0.95      0.84      0.90      1008\n",
            "        REAL       0.87      0.96      0.91      1083\n",
            "\n",
            "   micro avg       0.90      0.90      0.90      2091\n",
            "   macro avg       0.91      0.90      0.90      2091\n",
            "weighted avg       0.91      0.90      0.90      2091\n",
            "\n"
          ],
          "name": "stdout"
        }
      ]
    },
    {
      "metadata": {
        "id": "JqLAHAh6_nm9",
        "colab_type": "code",
        "colab": {}
      },
      "cell_type": "code",
      "source": [
        "clf3 = PassiveAggressiveClassifier(n_iter=50)"
      ],
      "execution_count": 0,
      "outputs": []
    },
    {
      "metadata": {
        "id": "qGe48Dgn_nnB",
        "colab_type": "code",
        "outputId": "d06447c1-a875-4299-f722-4a37d5ef9b92",
        "colab": {
          "base_uri": "https://localhost:8080/",
          "height": 127
        }
      },
      "cell_type": "code",
      "source": [
        "clf3.fit(hash_train, y_train)\n",
        "pred_l_h = clf3.predict(hash_test)\n",
        "score = metrics.accuracy_score(y_test, pred_l_h)\n",
        "print(\"accuracy:   %0.3f\" % score)\n",
        "cm = metrics.confusion_matrix(y_test, pred_l_h)"
      ],
      "execution_count": 0,
      "outputs": [
        {
          "output_type": "stream",
          "text": [
            "/usr/local/lib/python3.6/dist-packages/sklearn/linear_model/stochastic_gradient.py:152: DeprecationWarning: n_iter parameter is deprecated in 0.19 and will be removed in 0.21. Use max_iter and tol instead.\n",
            "  DeprecationWarning)\n",
            "/usr/local/lib/python3.6/dist-packages/sklearn/linear_model/stochastic_gradient.py:152: DeprecationWarning: n_iter parameter is deprecated in 0.19 and will be removed in 0.21. Use max_iter and tol instead.\n",
            "  DeprecationWarning)\n"
          ],
          "name": "stderr"
        },
        {
          "output_type": "stream",
          "text": [
            "accuracy:   0.929\n"
          ],
          "name": "stdout"
        }
      ]
    },
    {
      "metadata": {
        "id": "mtkA5GLA_nnJ",
        "colab_type": "code",
        "outputId": "63495628-e608-4cc2-ce8a-321de75941d3",
        "colab": {
          "base_uri": "https://localhost:8080/",
          "height": 53
        }
      },
      "cell_type": "code",
      "source": [
        "cm"
      ],
      "execution_count": 0,
      "outputs": [
        {
          "output_type": "execute_result",
          "data": {
            "text/plain": [
              "array([[955,  53],\n",
              "       [ 95, 988]])"
            ]
          },
          "metadata": {
            "tags": []
          },
          "execution_count": 18
        }
      ]
    },
    {
      "metadata": {
        "id": "DuOP1-vNPVMR",
        "colab_type": "code",
        "outputId": "7baaaa55-01e7-46ce-cc4f-b8cc531508d2",
        "colab": {
          "base_uri": "https://localhost:8080/",
          "height": 179
        }
      },
      "cell_type": "code",
      "source": [
        "print(metrics.classification_report(y_test, pred_l_h))"
      ],
      "execution_count": 0,
      "outputs": [
        {
          "output_type": "stream",
          "text": [
            "              precision    recall  f1-score   support\n",
            "\n",
            "        FAKE       0.91      0.95      0.93      1008\n",
            "        REAL       0.95      0.91      0.93      1083\n",
            "\n",
            "   micro avg       0.93      0.93      0.93      2091\n",
            "   macro avg       0.93      0.93      0.93      2091\n",
            "weighted avg       0.93      0.93      0.93      2091\n",
            "\n"
          ],
          "name": "stdout"
        }
      ]
    },
    {
      "metadata": {
        "id": "z26_Zbot38_j",
        "colab_type": "text"
      },
      "cell_type": "markdown",
      "source": [
        "**SVM**"
      ]
    },
    {
      "metadata": {
        "id": "RB1YNPcD33QH",
        "colab_type": "code",
        "outputId": "c0d9e02c-d660-497b-8cb1-bbbc012a161c",
        "colab": {
          "base_uri": "https://localhost:8080/",
          "height": 35
        }
      },
      "cell_type": "code",
      "source": [
        "from sklearn.svm import  LinearSVC\n",
        "svc_h_clf = LinearSVC()\n",
        "svc_h_clf.fit(hash_train, y_train)\n",
        "pred_hash_svm = svc_h_clf.predict(hash_test)\n",
        "score = metrics.accuracy_score(y_test, pred_hash_svm)\n",
        "print(\"accuracy:   %0.3f\" % score) "
      ],
      "execution_count": 0,
      "outputs": [
        {
          "output_type": "stream",
          "text": [
            "accuracy:   0.922\n"
          ],
          "name": "stdout"
        }
      ]
    },
    {
      "metadata": {
        "id": "tpkKr8hQ3_sY",
        "colab_type": "code",
        "outputId": "0296e54d-1eb1-4b16-a648-4d4900d53925",
        "colab": {
          "base_uri": "https://localhost:8080/",
          "height": 53
        }
      },
      "cell_type": "code",
      "source": [
        "cm = metrics.confusion_matrix(y_test, pred_hash_svm)\n",
        "cm"
      ],
      "execution_count": 0,
      "outputs": [
        {
          "output_type": "execute_result",
          "data": {
            "text/plain": [
              "array([[962,  46],\n",
              "       [118, 965]])"
            ]
          },
          "metadata": {
            "tags": []
          },
          "execution_count": 23
        }
      ]
    },
    {
      "metadata": {
        "id": "kAZ8tFYO4C6r",
        "colab_type": "text"
      },
      "cell_type": "markdown",
      "source": [
        "**RandomForest Classifier**"
      ]
    },
    {
      "metadata": {
        "id": "H0tCElje4CSO",
        "colab_type": "code",
        "outputId": "17f6cb97-3102-43ef-b29a-d2e7a2cc8f34",
        "colab": {
          "base_uri": "https://localhost:8080/",
          "height": 253
        }
      },
      "cell_type": "code",
      "source": [
        "from sklearn.ensemble import RandomForestClassifier\n",
        "clf1 = RandomForestClassifier(random_state=0, n_jobs=-1, class_weight='balanced')  \n",
        "model = clf1.fit(hash_train, y_train)\n",
        "predict_hash = model.predict(hash_test)\n",
        "proba = model.predict_proba(hash_test)\n",
        "cm = metrics.confusion_matrix(y_test, predict_hash)\n",
        "score = metrics.accuracy_score(y_test, predict_hash)\n",
        "print(\"accuracy:   %0.3f\" % score)\n",
        "print(metrics.classification_report(y_test, predict_hash))"
      ],
      "execution_count": 0,
      "outputs": [
        {
          "output_type": "stream",
          "text": [
            "/usr/local/lib/python3.6/dist-packages/sklearn/ensemble/forest.py:246: FutureWarning: The default value of n_estimators will change from 10 in version 0.20 to 100 in 0.22.\n",
            "  \"10 in version 0.20 to 100 in 0.22.\", FutureWarning)\n"
          ],
          "name": "stderr"
        },
        {
          "output_type": "stream",
          "text": [
            "accuracy:   0.817\n",
            "              precision    recall  f1-score   support\n",
            "\n",
            "        FAKE       0.78      0.87      0.82      1008\n",
            "        REAL       0.86      0.77      0.81      1083\n",
            "\n",
            "   micro avg       0.82      0.82      0.82      2091\n",
            "   macro avg       0.82      0.82      0.82      2091\n",
            "weighted avg       0.82      0.82      0.82      2091\n",
            "\n"
          ],
          "name": "stdout"
        }
      ]
    },
    {
      "metadata": {
        "id": "A3wFsvBz4Yri",
        "colab_type": "code",
        "outputId": "42d88dd6-cadf-4f40-c3e6-b5a17a5f0d9a",
        "colab": {
          "base_uri": "https://localhost:8080/",
          "height": 53
        }
      },
      "cell_type": "code",
      "source": [
        "cm"
      ],
      "execution_count": 0,
      "outputs": [
        {
          "output_type": "execute_result",
          "data": {
            "text/plain": [
              "array([[874, 134],\n",
              "       [248, 835]])"
            ]
          },
          "metadata": {
            "tags": []
          },
          "execution_count": 25
        }
      ]
    },
    {
      "metadata": {
        "id": "h_m7w4K2_nmS",
        "colab_type": "text"
      },
      "cell_type": "markdown",
      "source": [
        "# Introspecting model"
      ]
    },
    {
      "metadata": {
        "scrolled": true,
        "id": "XR84ZfGZ_nmT",
        "colab_type": "code",
        "colab": {
          "base_uri": "https://localhost:8080/",
          "height": 1115
        },
        "outputId": "035b9cec-156c-4d27-e5e8-8f5a39b36856"
      },
      "cell_type": "code",
      "source": [
        "def most_informative_feature_for_binary_classification(vectorizer, classifier, n=100):\n",
        "    \"\"\"\n",
        "    See: https://stackoverflow.com/a/26980472\n",
        "    \n",
        "    Identify most important features if given a vectorizer and binary classifier. Set n to the number\n",
        "    of weighted features you would like to show. (Note: current implementation merely prints and does not \n",
        "    return top classes.)\n",
        "    \"\"\"\n",
        "\n",
        "    class_labels = classifier.classes_\n",
        "    feature_names = vectorizer.get_feature_names()\n",
        "    topn_class1 = sorted(zip(classifier.coef_[0], feature_names))[:n]\n",
        "    topn_class2 = sorted(zip(classifier.coef_[0], feature_names))[-n:]\n",
        "\n",
        "    for coef, feat in topn_class1:\n",
        "        print(class_labels[0], coef, feat)\n",
        "\n",
        "    print()\n",
        "\n",
        "    for coef, feat in reversed(topn_class2):\n",
        "        print(class_labels[1], coef, feat)\n",
        "\n",
        "\n",
        "most_informative_feature_for_binary_classification(tfidf_vectorizer, linear_clf, n=30)"
      ],
      "execution_count": 22,
      "outputs": [
        {
          "output_type": "stream",
          "text": [
            "FAKE -14.209723024911149 october\n",
            "FAKE -11.696077315562624 share\n",
            "FAKE -10.733886028846126 article\n",
            "FAKE -9.436402569132442 november\n",
            "FAKE -6.140372833125806 hillary\n",
            "FAKE -5.932693269511044 entire\n",
            "FAKE -5.7616771041458374 donald\n",
            "FAKE -5.715250172412204 source\n",
            "FAKE -4.902926841886515 ago\n",
            "FAKE -4.668206879116079 read\n",
            "FAKE -4.559675932090379 elected\n",
            "FAKE -4.391600331887964 despite\n",
            "FAKE -4.183264149742327 position\n",
            "FAKE -4.131410614717187 comment\n",
            "FAKE -4.046706369501734 sign\n",
            "FAKE -3.8823380167665116 started\n",
            "FAKE -3.847874372264988 thought\n",
            "FAKE -3.732455217811045 free\n",
            "FAKE -3.654344723028586 lost\n",
            "FAKE -3.5946159922995182 sure\n",
            "FAKE -3.508210180379523 director\n",
            "FAKE -3.450163136554849 asked\n",
            "FAKE -3.3830594402968064 interview\n",
            "FAKE -3.2911810926103993 war\n",
            "FAKE -3.283898881044687 tried\n",
            "FAKE -3.2717860806683756 leave\n",
            "FAKE -3.2681370767906 given\n",
            "FAKE -3.104388210493819 head\n",
            "FAKE -3.0494059395274995 earlier\n",
            "FAKE -2.925108372849945 bring\n",
            "\n",
            "REAL 11.100515044864359 nomination\n",
            "REAL 6.509107421098581 conservative\n",
            "REAL 6.310217788054688 friday\n",
            "REAL 5.646155079068617 tuesday\n",
            "REAL 5.343075300782058 taken\n",
            "REAL 4.476030860146409 personal\n",
            "REAL 4.445792427730198 instead\n",
            "REAL 4.372953436520799 said\n",
            "REAL 4.125811297936165 monday\n",
            "REAL 4.082667261874749 gop\n",
            "REAL 4.06678644850217 later\n",
            "REAL 3.9560890746557953 candidate\n",
            "REAL 3.9393091562436915 kind\n",
            "REAL 3.859585475840284 week\n",
            "REAL 3.768777925749044 running\n",
            "REAL 3.6676678458947505 sense\n",
            "REAL 3.5930966443975905 barack\n",
            "REAL 3.5521536825390543 group\n",
            "REAL 3.5311243122413063 thursday\n",
            "REAL 3.4955955382141832 lot\n",
            "REAL 3.464537521341678 based\n",
            "REAL 3.4233860426160074 cnn\n",
            "REAL 3.4050772227425856 authority\n",
            "REAL 3.3748747916519988 key\n",
            "REAL 3.3047847759703473 fox\n",
            "REAL 3.247039580307863 attack\n",
            "REAL 3.2052549191012787 bernie\n",
            "REAL 3.1833424302407654 united state\n",
            "REAL 3.083070718787724 politics\n",
            "REAL 3.0301892864951254 view\n"
          ],
          "name": "stdout"
        }
      ]
    },
    {
      "metadata": {
        "id": "db6qlgUK6PvU",
        "colab_type": "text"
      },
      "cell_type": "markdown",
      "source": [
        "**Conclusion**"
      ]
    },
    {
      "metadata": {
        "id": "odarESOs6f7M",
        "colab_type": "text"
      },
      "cell_type": "markdown",
      "source": [
        "XGBoost performed with highest accuracy and f1-score, tfidf vectorizer overshadow the count vectorizer and gave 90 % accuracy with 0.90 f1-score.\n",
        "But when worked with hashing vectorizor which gave highest accuracy of about 92.9 % with PassiveAggressive Classifier."
      ]
    }
  ]
}